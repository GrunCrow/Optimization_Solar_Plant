{
 "cells": [
  {
   "cell_type": "markdown",
   "source": [
    "# Algoritmos Genéticos\n",
    "\n",
    "El objetivo de esta práctica es estudiar el funcionamiento de los algoritmos heurísticos no constructivos poblacionales. Este tipo de algoritmos parten de un conjunto de solución iniciales para a través de operaciones de transformación ir mejorando las soluciones candidatas. Los algoritmos que estudiar son algoritmos genéticos: básico, multimodal y CHC. Deberán compararse con los resultados de la búsqueda local del mejor vecino de la práctica 1.\n",
    "\n",
    "Se deberá ejecutar con al menos 3 semillas. Se admitirá modificar los criterios de parada para que la ejecución del algoritmo no supere 5 minutos de ejecución por semilla en la experimentación."
   ],
   "metadata": {
    "collapsed": false,
    "pycharm": {
     "name": "#%% md\n"
    }
   }
  },
  {
   "cell_type": "markdown",
   "source": [
    "## Librerías"
   ],
   "metadata": {
    "collapsed": false,
    "pycharm": {
     "name": "#%% md\n"
    }
   }
  },
  {
   "cell_type": "code",
   "execution_count": 1,
   "outputs": [],
   "source": [
    "import random\n",
    "import math\n",
    "import copy\n",
    "import numpy as np\n",
    "\n",
    "# Graphs and Plots\n",
    "from mpl_toolkits.axes_grid1 import host_subplot\n",
    "import mpl_toolkits.axisartist as AA\n",
    "import matplotlib.pyplot as plt\n",
    "\n",
    "import statistics\n",
    "\n",
    "import pandas as pd\n",
    "\n",
    "import os"
   ],
   "metadata": {
    "collapsed": false,
    "pycharm": {
     "name": "#%%\n"
    }
   }
  },
  {
   "cell_type": "markdown",
   "source": [
    "## Parámetros"
   ],
   "metadata": {
    "collapsed": false,
    "pycharm": {
     "name": "#%% md\n"
    }
   }
  },
  {
   "cell_type": "markdown",
   "source": [
    "### Semillas"
   ],
   "metadata": {
    "collapsed": false,
    "pycharm": {
     "name": "#%% md\n"
    }
   }
  },
  {
   "cell_type": "code",
   "execution_count": 2,
   "outputs": [],
   "source": [
    "# Establecer semillas\n",
    "\n",
    "semilla_1 = 9244889\n",
    "semilla_2 = 6885052\n",
    "semilla_3 = 1689685\n",
    "semilla_4 = 2674794\n",
    "semilla_5 = 3656827\n",
    "\n",
    "semillas = [semilla_1, semilla_2, semilla_3, semilla_4, semilla_5]"
   ],
   "metadata": {
    "collapsed": false,
    "pycharm": {
     "name": "#%%\n"
    }
   }
  },
  {
   "cell_type": "markdown",
   "source": [
    "### Precio\n",
    "\n",
    "Precio de compra y precio de venta forman el array de 2 filas precio donde:\n",
    "- precio[0] corresponde al precio_compra\n",
    "- precio[1] corresponda al precio_venta\n",
    "\n",
    "El precio se expresa en cents/kWh"
   ],
   "metadata": {
    "collapsed": false,
    "pycharm": {
     "name": "#%% md\n"
    }
   }
  },
  {
   "cell_type": "code",
   "execution_count": 3,
   "outputs": [],
   "source": [
    "# precio[0] = precios de compra\n",
    "precio_compra_problema1 = [26, 26, 25, 24,23,24,25,27,30,29,34,32,31,31,25,24,25,26,34,36,39,40,38,29]\n",
    "precio_compra_problema2= [7,7,50,25,11,26,48,45,10,14,42,14,42,22,40,34,21,31,29,34,11,37,8,50]\n",
    "\n",
    "# precio[1] = precios de venta\n",
    "precio_venta_problema1 = [24, 23, 22, 23,22,22,20,20,20,19,19,20,19,20,22,23,22,23,26,28,34,35,34,24] # 21 = max\n",
    "precio_venta_problema2= [1,3,21,1,10,7,44,35,4,1,23,12,30,7,30,4,9,10,6,9,8,27,7,10]\n",
    "\n",
    "precio_problema1 = [precio_compra_problema1, precio_venta_problema1]\n",
    "precio_problema2 = [precio_compra_problema2, precio_venta_problema2]\n",
    "\n",
    "precio = precio_problema1"
   ],
   "metadata": {
    "collapsed": false,
    "pycharm": {
     "name": "#%%\n"
    }
   }
  },
  {
   "cell_type": "markdown",
   "source": [
    "### Radiacion\n",
    "Radiacion en Wh/m2"
   ],
   "metadata": {
    "collapsed": false,
    "pycharm": {
     "name": "#%% md\n"
    }
   }
  },
  {
   "cell_type": "code",
   "execution_count": 4,
   "metadata": {
    "collapsed": true,
    "pycharm": {
     "name": "#%%\n"
    }
   },
   "outputs": [],
   "source": [
    "# radiacion W/h en m2\n",
    "radiacion_problema1 = [0, 0, 0, 0, 0, 0, 0, 0, 100, 313, 500, 661, 786, 419, 865, 230, 239, 715, 634, 468, 285, 96, 0, 0]\n",
    "radiacion_problema2 = [274, 345, 605, 810, 252, 56, 964, 98, 77, 816, 68, 261, 841, 897, 75, 489, 833, 96, 117, 956, 970, 255, 74, 926]\n",
    "\n",
    "radiacion = radiacion_problema1"
   ]
  },
  {
   "cell_type": "markdown",
   "source": [
    "### Horas"
   ],
   "metadata": {
    "collapsed": false,
    "pycharm": {
     "name": "#%% md\n"
    }
   }
  },
  {
   "cell_type": "code",
   "execution_count": 5,
   "outputs": [],
   "source": [
    "horas = [0] * 24\n",
    "for idx, hora in enumerate(horas):\n",
    "    horas[idx] = idx"
   ],
   "metadata": {
    "collapsed": false,
    "pycharm": {
     "name": "#%%\n"
    }
   }
  },
  {
   "cell_type": "markdown",
   "source": [
    "### Constantes"
   ],
   "metadata": {
    "collapsed": false,
    "pycharm": {
     "name": "#%% md\n"
    }
   }
  },
  {
   "cell_type": "code",
   "execution_count": 6,
   "outputs": [],
   "source": [
    "superficie = 1000   # m2\n",
    "ganancia = 0.2  # 20%\n",
    "bateria_maxima = 300 # kw                           # * 1000     # kW * 1000 = W"
   ],
   "metadata": {
    "collapsed": false,
    "pycharm": {
     "name": "#%%\n"
    }
   }
  },
  {
   "cell_type": "markdown",
   "source": [
    "#### Algoritmos"
   ],
   "metadata": {
    "collapsed": false,
    "pycharm": {
     "name": "#%% md\n"
    }
   }
  },
  {
   "cell_type": "code",
   "execution_count": 7,
   "outputs": [],
   "source": [
    "mejor_name = \"El Mejor\"\n",
    "algoritmo_genetico_basico_name = \"AG Básico\"\n",
    "algoritmo_genetico_CHC_name = \"AG CHC\"\n",
    "algoritmo_genetico_multimodal_name = \"AG MultiModal\""
   ],
   "metadata": {
    "collapsed": false,
    "pycharm": {
     "name": "#%%\n"
    }
   }
  },
  {
   "cell_type": "markdown",
   "source": [
    "### Resultados"
   ],
   "metadata": {
    "collapsed": false,
    "pycharm": {
     "name": "#%% md\n"
    }
   }
  },
  {
   "cell_type": "code",
   "execution_count": 8,
   "outputs": [],
   "source": [
    "Data = []\n",
    "Algorithms_names = []"
   ],
   "metadata": {
    "collapsed": false,
    "pycharm": {
     "name": "#%%\n"
    }
   }
  },
  {
   "cell_type": "markdown",
   "source": [
    "El resultado esperado es la cantidad en euros conseguida en el día, calculada como el precio por kWh vendidos en esa Hora. Dado que lo que podamos vender dependerá de la carga de la batería en dicho momento no se puede saber de antemano el resultado, por lo que el resultado será calculado mediante una simulación usando los precios y radiación. La simulación interpretará las instrucciones en la solución actual a evaluar calculando cada hora la carga de la batería y la cantidad en euros, que puede ser negativa."
   ],
   "metadata": {
    "collapsed": false,
    "pycharm": {
     "name": "#%% md\n"
    }
   }
  },
  {
   "cell_type": "markdown",
   "source": [
    "## Funciones auxiliares"
   ],
   "metadata": {
    "collapsed": false,
    "pycharm": {
     "name": "#%% md\n"
    }
   }
  },
  {
   "cell_type": "markdown",
   "source": [
    "### Conversiones de parametros"
   ],
   "metadata": {
    "collapsed": false,
    "pycharm": {
     "name": "#%% md\n"
    }
   }
  },
  {
   "cell_type": "markdown",
   "source": [
    "#### Energia"
   ],
   "metadata": {
    "collapsed": false,
    "pycharm": {
     "name": "#%% md\n"
    }
   }
  },
  {
   "cell_type": "code",
   "execution_count": 9,
   "outputs": [],
   "source": [
    "def kw_to_w(energia_kw):\n",
    "    '''\n",
    "    kwh a wh\n",
    "    '''\n",
    "\n",
    "    return energia_kw * 1000\n",
    "\n",
    "def w_to_kw(energia_w):\n",
    "    '''\n",
    "    w a kw\n",
    "    '''\n",
    "\n",
    "    return energia_w / 1000"
   ],
   "metadata": {
    "collapsed": false,
    "pycharm": {
     "name": "#%%\n"
    }
   }
  },
  {
   "cell_type": "code",
   "execution_count": 10,
   "outputs": [],
   "source": [
    "def energia_a_porcentaje(energia):\n",
    "    \"\"\"\n",
    "    :param energia: energia en kW\n",
    "    :return porcentaje_bateria: equivalente de esos kW en porcentaje de la bateria\n",
    "    \"\"\"\n",
    "\n",
    "    porcentaje_bateria = (energia / bateria_maxima) * 100\n",
    "\n",
    "    return porcentaje_bateria\n",
    "\n",
    "\n",
    "def porcentaje_a_energia(porcentaje):\n",
    "    \"\"\"\n",
    "    :param porcentaje: equivalente de esos kW en porcentaje de la bateria\n",
    "    :return energia: energia en kW\n",
    "    \"\"\"\n",
    "\n",
    "    energia = (porcentaje * bateria_maxima) / 100\n",
    "\n",
    "    return energia"
   ],
   "metadata": {
    "collapsed": false,
    "pycharm": {
     "name": "#%%\n"
    }
   }
  },
  {
   "cell_type": "markdown",
   "source": [
    "#### Dinero"
   ],
   "metadata": {
    "collapsed": false,
    "pycharm": {
     "name": "#%% md\n"
    }
   }
  },
  {
   "cell_type": "code",
   "execution_count": 11,
   "outputs": [],
   "source": [
    "def cents_to_euros(cents):\n",
    "    '''\n",
    "    cents to euros\n",
    "    '''\n",
    "\n",
    "    return cents / 100\n",
    "\n",
    "def euros_to_cents(euros):\n",
    "    '''\n",
    "    euro to cents\n",
    "    '''\n",
    "\n",
    "    return euros * 100"
   ],
   "metadata": {
    "collapsed": false,
    "pycharm": {
     "name": "#%%\n"
    }
   }
  },
  {
   "cell_type": "markdown",
   "source": [
    "### Representación gráfica"
   ],
   "metadata": {
    "collapsed": false,
    "pycharm": {
     "name": "#%% md\n"
    }
   }
  },
  {
   "cell_type": "code",
   "execution_count": 12,
   "outputs": [],
   "source": [
    "def representar_grafica(dinero_hora, bateria_hora, precios_venta = precio_venta_problema1, precios_compra = precio_compra_problema1, img_name = \"\"):\n",
    "    host = host_subplot(111, axes_class=AA.Axes)\n",
    "    plt.subplots_adjust(right=0.75)\n",
    "    dinero = host.twinx()\n",
    "    bateria = host.twinx()\n",
    "\n",
    "    offset = 5\n",
    "\n",
    "    '''new_fixed_axis = dinero.get_grid_helper().new_fixed_axis\n",
    "    dinero.axis[\"left\"] = new_fixed_axis(loc=\"left\", axes=dinero,\n",
    "                                            offset=(0, 0))'''\n",
    "\n",
    "    new_fixed_axis = bateria.get_grid_helper().new_fixed_axis\n",
    "    bateria.axis[\"right\"] = new_fixed_axis(loc=\"right\", axes=bateria,\n",
    "                                            offset=(offset, 0))\n",
    "\n",
    "    host.set_xlabel(\"Horas\")\n",
    "    # host.set_ylabel(\"Dinero (€)\")\n",
    "    dinero.set_ylabel(\"Dinero (€)\")\n",
    "    bateria.set_ylabel(\"Bateria (%)\")\n",
    "\n",
    "    # host.set_xlim(0, 23)\n",
    "    #host.set_ylim(0, 400)\n",
    "\n",
    "\n",
    "\n",
    "    # bateria.set(ylim=(0,100))\n",
    "    dinero.set(ylim=(min(dinero_hora),max(dinero_hora)))\n",
    "\n",
    "\n",
    "\n",
    "    # Dinero acumulado en cada hora\n",
    "    host.plot(horas,\n",
    "             dinero_hora,\n",
    "             linewidth=3,\n",
    "             color='yellow',\n",
    "             alpha=0.5)\n",
    "\n",
    "    # Capacidad de la bateria en cada hora\n",
    "    bat, = bateria.plot(horas,\n",
    "             bateria_hora,\n",
    "             color='green',\n",
    "             alpha=0.8)\n",
    "\n",
    "    # coeficiente_representacion = 1\n",
    "    # Precio por hora\n",
    "    dinero.plot(horas,    # eje x\n",
    "             precios_venta, #[p * coeficiente_representacion for p in precios_venta],\n",
    "             color='blue')\n",
    "\n",
    "    # coeficiente_representacion = 1\n",
    "    # Precio por hora\n",
    "    dinero.plot(horas,    # eje x\n",
    "             precios_compra, #[p * coeficiente_representacion for p in precios_venta],\n",
    "             color='red')\n",
    "\n",
    "    host.legend([\"Dinero Acumulado\",  \"Precios de venta\", \"Precios de compra\", \"Batería\"])\n",
    "\n",
    "    bateria.axis[\"right\"].label.set_color(bat.get_color())\n",
    "\n",
    "    if img_name:\n",
    "        plt.text(1, 13, round(dinero_hora[len(dinero_hora)-1], 2), style='italic', bbox={\n",
    "        'facecolor': 'grey', 'alpha': 0.5, 'pad': 10})\n",
    "        plt.title(img_name)\n",
    "\n",
    "        if not os.path.exists(img_name.split(\" (\")[0]):\n",
    "            os.makedirs(img_name.split(\" (\")[0])\n",
    "\n",
    "        plt.savefig(img_name.split(\" (\")[0] + \"/\" + img_name + \".png\", dpi=300, bbox_inches='tight')\n",
    "\n",
    "    plt.show()\n",
    "\n",
    "    return plt"
   ],
   "metadata": {
    "collapsed": false,
    "pycharm": {
     "name": "#%%\n"
    }
   }
  },
  {
   "cell_type": "code",
   "execution_count": 13,
   "outputs": [],
   "source": [
    "def representar_evolucion_algoritmo(totales_dinero, img_name = \"\"):\n",
    "    # plt.figure(figsize=(20,5))\n",
    "    plt.plot(range(0, len(totales_dinero)), totales_dinero, 'r')\n",
    "    plt.xlabel('Ejecucion')\n",
    "    plt.ylabel('Dinero (€)')\n",
    "\n",
    "    if img_name:\n",
    "        # plt.text(1, 13, round(max(totales_dinero), 2), style='italic', bbox={'facecolor': 'grey', 'alpha': 0.5, 'pad': 10})\n",
    "        plt.title(img_name)\n",
    "\n",
    "        if not os.path.exists(img_name.split(\" (\")[0]):\n",
    "            os.makedirs(img_name.split(\" (\")[0])\n",
    "\n",
    "        plt.savefig(img_name.split(\" (\")[0] + \"/\" + img_name + \"_evolucion_\" + \".png\", dpi=300, bbox_inches='tight')\n",
    "\n",
    "    plt.show()"
   ],
   "metadata": {
    "collapsed": false,
    "pycharm": {
     "name": "#%%\n"
    }
   }
  },
  {
   "cell_type": "markdown",
   "source": [
    "### Otras"
   ],
   "metadata": {
    "collapsed": false,
    "pycharm": {
     "name": "#%% md\n"
    }
   }
  },
  {
   "cell_type": "code",
   "execution_count": 14,
   "outputs": [],
   "source": [
    "def flatten(l):\n",
    "    return [item for sublist in l for item in sublist]"
   ],
   "metadata": {
    "collapsed": false,
    "pycharm": {
     "name": "#%%\n"
    }
   }
  },
  {
   "cell_type": "markdown",
   "source": [],
   "metadata": {
    "collapsed": false,
    "pycharm": {
     "name": "#%% md\n"
    }
   }
  },
  {
   "cell_type": "markdown",
   "source": [],
   "metadata": {
    "collapsed": false,
    "pycharm": {
     "name": "#%% md\n"
    }
   }
  },
  {
   "cell_type": "markdown",
   "source": [],
   "metadata": {
    "collapsed": false,
    "pycharm": {
     "name": "#%% md\n"
    }
   }
  },
  {
   "cell_type": "markdown",
   "source": [],
   "metadata": {
    "collapsed": false,
    "pycharm": {
     "name": "#%% md\n"
    }
   }
  },
  {
   "cell_type": "markdown",
   "source": [
    "Los valores que queremos obtener son:\n",
    "Evaluaciones = numero medio de evaluaciones realizada por el algoritmo en las cinco ejecuciones\n",
    "- Evaluación media (tiempo)\n",
    "- Evaluación mejor (tiempo)\n",
    "- Evaluación Desviación (tiempo)\n",
    "- Mejor €\n",
    "- Media €\n",
    "- Desviación €"
   ],
   "metadata": {
    "collapsed": false,
    "pycharm": {
     "name": "#%% md\n"
    }
   }
  },
  {
   "cell_type": "markdown",
   "source": [],
   "metadata": {
    "collapsed": false,
    "pycharm": {
     "name": "#%% md\n"
    }
   }
  },
  {
   "cell_type": "markdown",
   "source": [],
   "metadata": {
    "collapsed": false,
    "pycharm": {
     "name": "#%% md\n"
    }
   }
  },
  {
   "cell_type": "markdown",
   "source": [
    "## Funciones auxiliares comunes a los algoritmos"
   ],
   "metadata": {
    "collapsed": false,
    "pycharm": {
     "name": "#%% md\n"
    }
   }
  },
  {
   "cell_type": "markdown",
   "source": [
    "### Generar Solución Inicial"
   ],
   "metadata": {
    "collapsed": false,
    "pycharm": {
     "name": "#%% md\n"
    }
   }
  },
  {
   "cell_type": "code",
   "execution_count": 15,
   "outputs": [],
   "source": [
    "def solucion_aleatoria():\n",
    "    # implementación de la generación de solución inicial\n",
    "    solucion = [0] * 24 # Inicializar el vector con 24 ceros\n",
    "\n",
    "    # Generar una solución válida\n",
    "    for hora in range(0,24):\n",
    "\n",
    "        numero_aleatorio = random.randint(-100,100) # Generar un num aleatorio entre el -100 y 100\n",
    "\n",
    "        assert -100 <= numero_aleatorio <= 100, \"Un numero no está en los limites\"\n",
    "\n",
    "        solucion[hora] = numero_aleatorio\n",
    "\n",
    "    return solucion\n",
    "\n",
    "def solucion_inicial():\n",
    "    return solucion_aleatoria()"
   ],
   "metadata": {
    "collapsed": false,
    "pycharm": {
     "name": "#%%\n"
    }
   }
  },
  {
   "cell_type": "markdown",
   "source": [
    "### Función Evaluación"
   ],
   "metadata": {
    "collapsed": false,
    "pycharm": {
     "name": "#%% md\n"
    }
   }
  },
  {
   "cell_type": "code",
   "execution_count": 16,
   "outputs": [],
   "source": [
    "def funcion_evaluacion(solucion, radiacion = radiacion, precio = precio, representar = False, img_name = \"\"):\n",
    "    bateria_capacidad_porcentaje = 0\n",
    "    dinero_total = 0\n",
    "\n",
    "    hora_venta_pico = precio[1].index(max(precio[1]))\n",
    "\n",
    "    # para la representacion de las funciones\n",
    "    dinero_hora = [0 for _ in range(24)]\n",
    "    bateria_hora = [0 for _ in range(24)]\n",
    "    precios_venta = [0 for _ in range(24)]\n",
    "    precios_compra = [0 for _ in range(24)]\n",
    "\n",
    "    for hora in horas:\n",
    "\n",
    "        # 1. Almacenar nueva energia\n",
    "        energia_recibida = w_to_kw(radiacion[hora]) * superficie * ganancia  # a kwh\n",
    "        bateria_capacidad_porcentaje += energia_a_porcentaje(energia_recibida)    # incrementar % de la bateria\n",
    "\n",
    "\n",
    "        precio_venta_actual = precio[1][hora]\n",
    "        precio_compra_actual = precio[0][hora]\n",
    "        precios_venta[hora] = precio_venta_actual\n",
    "        precios_compra[hora] = precio_compra_actual\n",
    "\n",
    "        # 2. Vender si hay sobrante\n",
    "        if bateria_capacidad_porcentaje > 100:\n",
    "            porcentaje_bateria_sobrante = bateria_capacidad_porcentaje - 100\n",
    "            bateria_capacidad_porcentaje = 100\n",
    "            dinero_total += cents_to_euros((porcentaje_a_energia(porcentaje_bateria_sobrante)) * precio_venta_actual)\n",
    "\n",
    "        # assert 0 <= bateria_capacidad_porcentaje <= 100, \"Batería fuera de los posibles limites\"\n",
    "        # assert -100 <= solucion[hora] <= 100, \"Solucion hora fuera de los limites: \" + str(solucion[hora])\n",
    "\n",
    "        # print(solucion[hora])\n",
    "        if solucion[hora] >= 0:  # Compra el porcentaje de batería introducido respecto a la fracción de almacenaje disponible, después de introducir la energía recibida en esa hora. Al hacer la compra sobre el porcentaje de energía almacenada tras añadir la nueva energía, solo se superará la capacidad de la batería con la nueva energía a almacenar, en este caso, esa energía sobrante se venderá.\n",
    "\n",
    "            # 3. Comprar energia\n",
    "            bateria_almacenable_porcentaje = 100 - bateria_capacidad_porcentaje # todo no puese ser menor de 0\n",
    "            bateria_almacenar_porcentaje = (solucion[hora]) * bateria_almacenable_porcentaje / 100\n",
    "            bateria_capacidad_porcentaje += bateria_almacenar_porcentaje\n",
    "\n",
    "            if bateria_capacidad_porcentaje > 100:\n",
    "                bateria_capacidad_porcentaje = round(bateria_capacidad_porcentaje)\n",
    "                if bateria_capacidad_porcentaje > 100:\n",
    "                    bateria_capacidad_porcentaje = 100\n",
    "\n",
    "            assert 0 <= bateria_capacidad_porcentaje <= 100, \"Batería fuera de los posibles limites al comprar: \" + str(bateria_capacidad_porcentaje)\n",
    "\n",
    "            dinero_total -= cents_to_euros(porcentaje_a_energia(bateria_almacenar_porcentaje) * precio_compra_actual)\n",
    "\n",
    "        else: # Vende el porcentaje de energía almacenada introducido.\n",
    "            # 3. Vende energia\n",
    "\n",
    "            bateria_vender_porcentaje = (abs(solucion[hora]) * bateria_capacidad_porcentaje) / 100\n",
    "\n",
    "            bateria_capacidad_porcentaje -= bateria_vender_porcentaje\n",
    "\n",
    "            if bateria_capacidad_porcentaje < 0: # pasa con numeros decimales muy pequeños por el redondeo\n",
    "                bateria_capacidad_porcentaje = round(bateria_capacidad_porcentaje)\n",
    "\n",
    "            assert 0 <= bateria_capacidad_porcentaje <= 100, \"Batería fuera de los posibles limites, al vender: \" + str(bateria_capacidad_porcentaje)\n",
    "\n",
    "            dinero_total += cents_to_euros((porcentaje_a_energia(bateria_vender_porcentaje)) * precio_venta_actual)\n",
    "\n",
    "        # si es la ultima hora vender todo:\n",
    "        if hora == (len(horas) - 1):\n",
    "            bateria_vender_porcentaje = 100 * bateria_capacidad_porcentaje / 100\n",
    "\n",
    "            bateria_capacidad_porcentaje -= bateria_vender_porcentaje\n",
    "\n",
    "            dinero_total += cents_to_euros((porcentaje_a_energia(bateria_vender_porcentaje)) * precio_venta_actual)\n",
    "\n",
    "            assert int(bateria_capacidad_porcentaje) == 0, \"La batería no se ha vaciado completamente al terminar el día: \" + str(bateria_capacidad_porcentaje)\n",
    "\n",
    "        bateria_hora[hora] = bateria_capacidad_porcentaje\n",
    "        dinero_hora[hora] = dinero_total\n",
    "\n",
    "    if representar:\n",
    "        representar_grafica(dinero_hora, bateria_hora, precios_venta, precios_compra, img_name)\n",
    "\n",
    "    return dinero_total"
   ],
   "metadata": {
    "collapsed": false,
    "pycharm": {
     "name": "#%%\n"
    }
   }
  },
  {
   "cell_type": "markdown",
   "source": [
    "### Movimiento"
   ],
   "metadata": {
    "collapsed": false,
    "pycharm": {
     "name": "#%% md\n"
    }
   }
  },
  {
   "cell_type": "code",
   "execution_count": 17,
   "outputs": [],
   "source": [
    "# se genera un numero de vecinos, por ej 40 -> elegir una posicion y hacer + / - granularidad de esa posicion, yendo de 1 en 1 o de 10 en 10\n",
    "# Función para generar vecino\n",
    "def generador_vecino(solucion_actual, n_vecinos = 1, granularidad = 10):\n",
    "    # implementación de la generación de vecino\n",
    "    vecinos = []\n",
    "\n",
    "    for _ in [n_vecinos]:\n",
    "\n",
    "        vecino = solucion_actual.copy()\n",
    "\n",
    "        # incremento\n",
    "        for idx, elemento in enumerate(range(len(vecino))):\n",
    "            nuevo_vecino = vecino.copy()\n",
    "            nuevo_valor = vecino[idx] + granularidad\n",
    "\n",
    "            if not(-100 <= nuevo_valor <= 100):\n",
    "                if nuevo_valor <= -100:\n",
    "                    nuevo_valor = -100\n",
    "                elif 100 <= nuevo_valor:\n",
    "                    nuevo_valor = 100\n",
    "\n",
    "            nuevo_vecino[idx] = nuevo_valor\n",
    "\n",
    "            # Se comprueba que el número resultante esté dentro del rango [-100, 100]\n",
    "            # vecino[idx] = max(min(vecino[idx], 100), -100)\n",
    "\n",
    "            #Para evitar que pueda haber valores por encima de 100 (porque es suma), si es +100 -> no appendiza el valor\n",
    "            if -100 <= nuevo_vecino[idx] <= 100:\n",
    "                vecinos.append(nuevo_vecino)\n",
    "                assert -100 <= nuevo_vecino[idx] <= 100, \"Vecino fuera de los limites: \" + str(nuevo_vecino[idx])\n",
    "\n",
    "        # decremento\n",
    "        for idx, elemento in enumerate(range(len(vecino))):\n",
    "            nuevo_vecino = vecino.copy()\n",
    "            nuevo_valor = vecino[idx] - granularidad\n",
    "            nuevo_vecino[idx] = nuevo_valor\n",
    "\n",
    "            # Se comprueba que el número resultante esté dentro del rango [-100, 100]\n",
    "            # vecino[idx] = max(min(vecino[idx], 100), -100)\n",
    "            # vecinos.append(vecino)\n",
    "\n",
    "            #Para evitar que pueda haber valores por debajo de -100 (porque es resta), si es -100 -> no appendiza el valor\n",
    "            if nuevo_vecino[idx] >= -100:\n",
    "                vecinos.append(nuevo_vecino)\n",
    "                assert -100 <= nuevo_vecino[idx] <= 100, \"Vecino fuera de los limites: \" + str(nuevo_vecino[idx])\n",
    "\n",
    "        # vecinos.append(vecino)\n",
    "\n",
    "    return vecinos"
   ],
   "metadata": {
    "collapsed": false,
    "pycharm": {
     "name": "#%%\n"
    }
   }
  },
  {
   "cell_type": "markdown",
   "source": [
    "### Función auxiliar de evaluación"
   ],
   "metadata": {
    "collapsed": false,
    "pycharm": {
     "name": "#%% md\n"
    }
   }
  },
  {
   "cell_type": "code",
   "execution_count": 18,
   "outputs": [],
   "source": [
    "def evaluar_algoritmo(algorithm_name, parametros = []):\n",
    "    Header = [\"Ev. Medias\", \"Ev. Mejor\", \"Ev. Desviación\", \"Mejor €\", \"Media €\", \"Desviación €\", \"Ev. Mejor Dinero\", \"Ev. Medias Mejor\"]\n",
    "\n",
    "    Ev = []\n",
    "    Dinero = []\n",
    "\n",
    "    Data = []\n",
    "\n",
    "    for semilla in semillas:\n",
    "        random.seed(semilla)\n",
    "\n",
    "        sol_inicial = solucion_inicial()\n",
    "\n",
    "        if algorithm_name == mejor_name:\n",
    "            solucion, contador_evaluaciones, totales_dineros = busqueda_local_mejor(max_evaluaciones=parametros[0], solucion_inicial=sol_inicial, granularidad = parametros[1])\n",
    "\n",
    "            img_name = str(algorithm_name + \" (\" + str(parametros[0]) + \" max. eval.) (Semilla \" + str(semilla) + \")\")\n",
    "            representar_evolucion_algoritmo(totales_dineros, img_name=img_name)\n",
    "            funcion_evaluacion(solucion, representar=True, img_name=img_name)\n",
    "\n",
    "        elif algorithm_name == algoritmo_genetico_basico_name:\n",
    "            # n_individuos, max_iteraciones, porcentaje_torneo\n",
    "            solucion, contador_evaluaciones, totales_dineros = algoritmo_genetico_basico(n_individuos=parametros[0], max_iteraciones=parametros[1], max_iteraciones_sin_mejora=parametros[2], porcentaje_torneo=parametros[3])\n",
    "\n",
    "            img_name = str(algorithm_name + \" (Individuos \" + str(parametros[0]) + \") (Semilla \" + str(semilla) + \")\")\n",
    "            representar_evolucion_algoritmo(totales_dineros, img_name=img_name)\n",
    "            funcion_evaluacion(solucion, representar=True, img_name=img_name)\n",
    "\n",
    "\n",
    "        elif algorithm_name == algoritmo_genetico_CHC_name:\n",
    "            # n_individuos, max_iteraciones, porcentaje_torneo\n",
    "            solucion, contador_evaluaciones, totales_dineros = algoritmo_genetico_chc(n_individuos=parametros[0], max_iteraciones=parametros[1], tamano_nuevo=parametros[2], distancia_maxima=parametros[3])\n",
    "\n",
    "            img_name = str(algorithm_name + \" (Individuos \" + str(parametros[0]) + \") (Semilla \" + str(semilla) + \")\")\n",
    "            representar_evolucion_algoritmo(totales_dineros, img_name=img_name)\n",
    "            funcion_evaluacion(solucion, representar=True, img_name=img_name)\n",
    "\n",
    "\n",
    "        elif algorithm_name == algoritmo_genetico_multimodal_name:\n",
    "            # n_individuos, max_iteraciones, porcentaje_torneo\n",
    "            solucion, contador_evaluaciones, totales_dineros = algoritmo_genetico_multimodal(n_individuos=parametros[0], max_iteraciones=parametros[1], max_iteraciones_sin_mejora=parametros[2], porcentaje_torneo=parametros[3], n_nichos=parametros[4], radio=parametros[5])\n",
    "\n",
    "            img_name = str(algorithm_name + \" (Individuos \" + str(parametros[0]) + \") (Semilla \" + str(semilla) + \")\")\n",
    "            representar_evolucion_algoritmo(totales_dineros, img_name=img_name)\n",
    "            funcion_evaluacion(solucion, representar=True, img_name=img_name)\n",
    "\n",
    "        else:\n",
    "            solucion, contador_evaluaciones, totales_dineros = busqueda_local_mejor(max_evaluaciones=parametros[0], solucion_inicial=sol_inicial, granularidad = parametros[1])\n",
    "\n",
    "            img_name = str(algorithm_name + \" (\" + str(parametros[0]) + \" max. eval.) (Semilla \" + str(semilla) + \")\")\n",
    "            representar_evolucion_algoritmo(totales_dineros, img_name=img_name)\n",
    "            funcion_evaluacion(solucion, representar=True, img_name=img_name)\n",
    "\n",
    "\n",
    "\n",
    "        # print(\"Dinero total: \" + str(dinero_total))\n",
    "\n",
    "        # print(contador_evaluaciones[0], len(totales_dineros))\n",
    "\n",
    "        # assert contador_evaluaciones[0] == len(totales_dineros), \"El número de evaluaciones (\" + str(contador_evaluaciones[0]) + \") no coincide con el número de resultados (\" + str(len(totales_dineros)) + \")\"\n",
    "\n",
    "        # Ev.\n",
    "        Ev.append(contador_evaluaciones)\n",
    "        # €\n",
    "        Dinero.append(totales_dineros)\n",
    "\n",
    "    # print(Ev)\n",
    "\n",
    "    # Ev = flatten(Ev)\n",
    "    Dinero_flat = flatten(Dinero)\n",
    "\n",
    "    # inicio = 0\n",
    "    # fin = inicio\n",
    "    lista_idx_dinero_max = []\n",
    "    lista_dinero_max = []\n",
    "\n",
    "    for idx, semilla in enumerate(semillas):\n",
    "        # inicio = fin\n",
    "        # fin = fin + Ev[idx]\n",
    "\n",
    "        dinero_iteracion_actual = Dinero[idx]\n",
    "\n",
    "        idx_max_dinero_iteracion_actual = dinero_iteracion_actual.index(max(dinero_iteracion_actual))\n",
    "        lista_dinero_max.append(max(dinero_iteracion_actual))\n",
    "        lista_idx_dinero_max.append(idx_max_dinero_iteracion_actual)\n",
    "\n",
    "    # print(Ev)\n",
    "    # print(lista_dinero_max)\n",
    "\n",
    "\n",
    "    # 0 Ev. Medias\n",
    "    Data.append(statistics.median(Ev))\n",
    "    #Data.append(contador_evaluaciones)\n",
    "\n",
    "    # 1 \"Ev. Mejor\" -> mide la covergencia\n",
    "    # Data.append(Dinero.index(max(Dinero)))\n",
    "    Data.append(min(Ev))\n",
    "\n",
    "    # 2 \"Ev. Desviación\" -> mide la robustez, a mayor cercania a 0 mayor robustez\n",
    "    # Data.append(statistics.stdev(Ev))\n",
    "    Data.append(statistics.stdev(Ev))\n",
    "\n",
    "    # 3 \"Mejor €\"\n",
    "    Data.append(max(Dinero_flat))\n",
    "\n",
    "    # 4 \"Media €\"\n",
    "    # Data.append(statistics.median(Dinero))\n",
    "    Data.append(statistics.median(lista_dinero_max))\n",
    "\n",
    "    # 5 \"Desviación €\"\n",
    "    # Data.append(statistics.stdev(Dinero))\n",
    "    Data.append(statistics.stdev(lista_dinero_max))\n",
    "\n",
    "    # 6 \"Ev. Mejor Dinero\"\n",
    "    # Data.append(Dinero.index(max(Dinero)))\n",
    "    semilla_ev_dinero_max = lista_dinero_max.index(max(lista_dinero_max))\n",
    "    Data.append(str(semilla_ev_dinero_max + 1) + \": \" + str(lista_idx_dinero_max[semilla_ev_dinero_max]))\n",
    "\n",
    "    # 7 Ev. Medias para encontrar mejor solucion\n",
    "    Data.append(statistics.median(lista_idx_dinero_max))\n",
    "\n",
    "    for idx, dat in enumerate(Data):\n",
    "        if idx != 6: Data[idx] = round(dat,2)\n",
    "\n",
    "    print(pd.DataFrame(Data, Header, [algorithm_name]))\n",
    "\n",
    "    return Data"
   ],
   "metadata": {
    "collapsed": false,
    "pycharm": {
     "name": "#%%\n"
    }
   }
  },
  {
   "cell_type": "code",
   "execution_count": 19,
   "outputs": [],
   "source": [
    "def mostrar_estudio_algoritmos(Data):\n",
    "    Header = [\"Ev. Medias\", \"Ev. Mejor\", \"Ev. Desviación\", \"Mejor €\", \"Media €\", \"Desviación €\", \"Ev. Mejor Dinero\"]\n",
    "\n",
    "    print(pd.DataFrame(Data, Header))\n",
    "\n",
    "    return Data"
   ],
   "metadata": {
    "collapsed": false,
    "pycharm": {
     "name": "#%%\n"
    }
   }
  },
  {
   "cell_type": "markdown",
   "source": [],
   "metadata": {
    "collapsed": false,
    "pycharm": {
     "name": "#%% md\n"
    }
   }
  },
  {
   "cell_type": "markdown",
   "source": [],
   "metadata": {
    "collapsed": false,
    "pycharm": {
     "name": "#%% md\n"
    }
   }
  },
  {
   "cell_type": "markdown",
   "source": [],
   "metadata": {
    "collapsed": false,
    "pycharm": {
     "name": "#%% md\n"
    }
   }
  },
  {
   "cell_type": "markdown",
   "source": [],
   "metadata": {
    "collapsed": false,
    "pycharm": {
     "name": "#%% md\n"
    }
   }
  },
  {
   "cell_type": "markdown",
   "source": [],
   "metadata": {
    "collapsed": false,
    "pycharm": {
     "name": "#%% md\n"
    }
   }
  },
  {
   "cell_type": "markdown",
   "source": [
    "## Algoritmos de Heurísticas Constructivas\n",
    "\n",
    "Heurísticas Constructivas: Parten de una solución inicial vacía y van añadiéndole componentes hasta construir una solución.\n",
    "\n",
    "Las heurísticas constructivas son más rápidas pero dan soluciones de peor calidad que la búsqueda local (BL).\n",
    "\n",
    "Ambos son procesos de búsqueda efectuados sobre un espacio de soluciones al problema. En los métodos constructivos, el espacio es de soluciones parciales, mientras que en la BL es de soluciones completas (candidatas).\n",
    "\n",
    "El espacio de búsqueda suele ser de un tamaño exponencial con respecto al tamaño del problema."
   ],
   "metadata": {
    "collapsed": false,
    "pycharm": {
     "name": "#%% md\n"
    }
   }
  },
  {
   "cell_type": "markdown",
   "source": [
    "### El Mejor\n",
    "\n",
    "Se implementará siguiendo el esquema de el primer mejor y el mejor vecino, según el Tema 1 de teoría.\n",
    "\n",
    "Se partirá de una solución inicial aleatoria. Los algoritmos de búsqueda local tienen su propia condición de parada, pero adicionalmente, en prevención de tiempos excesivos en algún caso, se añadirá una condición de parada alternativa (OR) basada en el número de evaluaciones que esté realizando la búsqueda, es decir, el número de veces se llame al cálculo de la función de coste. Este valor para la Búsqueda Local será de 3000 llamadas a la función de coste.\n",
    "\n",
    "Para el número de vecinos del primer mejor se pasará a la siguiente solución cuando se encuentre un vecino mejor mediante una operación de movimiento o se haya alcanzado el número máximo de intentos sin mejora.\n",
    "\n",
    "Haz un estudio de granularidad del operador de movimiento (al menos tres valores) respecto a la calidad de la solución encontrada. Para ello deberá mostrar varios gráficos de mejor solución (total euros generados) en cada iteración para cada velocidad."
   ],
   "metadata": {
    "collapsed": false,
    "pycharm": {
     "name": "#%% md\n"
    }
   }
  },
  {
   "cell_type": "markdown",
   "source": [
    "Sobre busqueda local primero mejor:\n",
    "\n",
    "Los valores de los parámetros max_evaluaciones y max_intentos_sin_mejora deben ser razonables para el problema específico porque estos parámetros afectan la cantidad de tiempo y recursos necesarios para ejecutar el algoritmo de búsqueda local.\n",
    "\n",
    "El parámetro max_evaluaciones establece el número máximo de evaluaciones de la función de evaluación permitidas. Si el valor es demasiado bajo, el algoritmo puede no ser capaz de encontrar una solución óptima o incluso una solución aceptable. Si el valor es demasiado alto, el algoritmo puede tardar demasiado tiempo en ejecutarse, lo que lo hace ineficiente.\n",
    "\n",
    "El parámetro max_intentos_sin_mejora establece el número máximo de iteraciones permitidas sin que se produzca una mejora en la solución. Si el valor es demasiado bajo, el algoritmo puede detenerse prematuramente antes de encontrar una solución óptima o aceptable. Si el valor es demasiado alto, el algoritmo puede continuar ejecutándose durante mucho tiempo, lo que también lo hace ineficiente.\n",
    "\n",
    "Por lo tanto, es importante ajustar estos parámetros según las características específicas del problema para encontrar un equilibrio entre la calidad de la solución y el tiempo y recursos necesarios para encontrarla."
   ],
   "metadata": {
    "collapsed": false,
    "pycharm": {
     "name": "#%% md\n"
    }
   }
  },
  {
   "cell_type": "markdown",
   "source": [
    "Búsqueda Local del Mejor (…el mejor vecino del entorno)\n",
    "\n",
    "A partir de la solución actual genera todo el entorno completo de ella y selecciona la mejor solución vecina.\n",
    "\n",
    "A continuación, comprueba si esa mejor vecina de la solución actual es mejor que la propia solución actual, y:\n",
    "- En caso afirmativo la sustituye y vuelve a iterar\n",
    "- En caso de que no, el algoritmo finaliza."
   ],
   "metadata": {
    "collapsed": false,
    "pycharm": {
     "name": "#%% md\n"
    }
   }
  },
  {
   "cell_type": "code",
   "execution_count": 20,
   "outputs": [],
   "source": [
    "def generar_mejor_vecino_mejor(solucion_actual, granularidad):\n",
    "    contador_evaluaciones = 0\n",
    "\n",
    "    vecinos = generador_vecino(solucion_actual, granularidad = granularidad)\n",
    "\n",
    "    valor_solucion_actual = funcion_evaluacion(solucion_actual)\n",
    "    contador_evaluaciones += 1\n",
    "\n",
    "    valor_mejor_vecino = valor_solucion_actual\n",
    "    mejor_vecino = solucion_actual\n",
    "\n",
    "    for vecino in vecinos:\n",
    "        valor_vecino = funcion_evaluacion(vecino)\n",
    "        contador_evaluaciones += 1\n",
    "\n",
    "        # Si el mejor vecino mejora la solución actual, se actualiza la solución actual\n",
    "        if valor_vecino > valor_mejor_vecino:\n",
    "            mejor_vecino = vecino\n",
    "            valor_mejor_vecino = valor_vecino\n",
    "\n",
    "    return mejor_vecino, valor_mejor_vecino, contador_evaluaciones\n",
    "\n",
    "def condicion_de_parada_mejor(valor_mejor_vecino, valor_solucion_actual):\n",
    "    if valor_mejor_vecino <= valor_solucion_actual:\n",
    "        return True\n",
    "    else:\n",
    "        return False\n",
    "\n",
    "def busqueda_local_mejor(solucion_inicial = solucion_inicial(), max_evaluaciones=3000, granularidad = 10):\n",
    "\n",
    "    # Parametros de control\n",
    "    totales_dinero = []\n",
    "    contador_evaluaciones = 0\n",
    "\n",
    "    # Generar solución inicial\n",
    "    solucion_actual = solucion_inicial\n",
    "\n",
    "    valor_solucion_actual = funcion_evaluacion(solucion_actual)\n",
    "    contador_evaluaciones += 1\n",
    "\n",
    "    totales_dinero.append(valor_solucion_actual)\n",
    "\n",
    "    valor_mejor_vecino = valor_solucion_actual\n",
    "\n",
    "    while (valor_mejor_vecino > valor_solucion_actual) or (contador_evaluaciones < max_evaluaciones): # and intentos_sin_mejora < max_intentos_sin_mejora: -> esto es para mej no de salida\n",
    "\n",
    "        valor_mejor_vecino = valor_solucion_actual\n",
    "\n",
    "        # Obtiene el mejor vecino del entorno\n",
    "        vecino, valor_vecino, aux_contador = generar_mejor_vecino_mejor(solucion_actual, granularidad)\n",
    "        contador_evaluaciones += aux_contador\n",
    "\n",
    "        if valor_vecino > valor_solucion_actual:\n",
    "            valor_solucion_actual = valor_vecino\n",
    "            solucion_actual = vecino\n",
    "\n",
    "        totales_dinero.append(valor_solucion_actual)\n",
    "\n",
    "    return solucion_actual, contador_evaluaciones, totales_dinero"
   ],
   "metadata": {
    "collapsed": false,
    "pycharm": {
     "name": "#%%\n"
    }
   }
  },
  {
   "cell_type": "code",
   "execution_count": 21,
   "outputs": [
    {
     "data": {
      "text/plain": "'\\nmax_evaluaciones=3000\\ngranularidad = 10\\n\\nparametros = [max_evaluaciones, granularidad]\\n\\nalgorithm_name = mejor_name\\n\\nAlgorithms_names.append(algorithm_name)\\n\\nmejor_data = evaluar_algoritmo(algorithm_name, parametros)\\nData.append(mejor_data)'"
     },
     "execution_count": 21,
     "metadata": {},
     "output_type": "execute_result"
    }
   ],
   "source": [
    "'''\n",
    "max_evaluaciones=3000\n",
    "granularidad = 10\n",
    "\n",
    "parametros = [max_evaluaciones, granularidad]\n",
    "\n",
    "algorithm_name = mejor_name\n",
    "\n",
    "Algorithms_names.append(algorithm_name)\n",
    "\n",
    "mejor_data = evaluar_algoritmo(algorithm_name, parametros)\n",
    "Data.append(mejor_data)'''"
   ],
   "metadata": {
    "collapsed": false,
    "pycharm": {
     "name": "#%%\n"
    }
   }
  },
  {
   "cell_type": "markdown",
   "source": [
    "## Algoritmos de Hurísticas No Constructivas"
   ],
   "metadata": {
    "collapsed": false,
    "pycharm": {
     "name": "#%% md\n"
    }
   }
  },
  {
   "cell_type": "markdown",
   "source": [
    "### Funciones Comunes"
   ],
   "metadata": {
    "collapsed": false,
    "pycharm": {
     "name": "#%% md\n"
    }
   }
  },
  {
   "cell_type": "code",
   "execution_count": 22,
   "outputs": [],
   "source": [
    "# Función de inicialización de población\n",
    "def inicializar_poblacion(n_individuos):\n",
    "    poblacion = []\n",
    "    for i in range(n_individuos):\n",
    "        # Generar un individuo aleatorio\n",
    "        individuo = solucion_aleatoria()\n",
    "        poblacion.append(individuo)\n",
    "    return poblacion\n",
    "\n",
    "# Función de reemplazo: torneo\n",
    "def torneo(poblacion, k):\n",
    "    # Seleccionar k individuos al azar y elegir al mejor\n",
    "    competidores = random.sample(poblacion, k)\n",
    "    ganador = max(competidores, key=funcion_evaluacion)\n",
    "    return ganador\n",
    "\n",
    "# Operador de cruce: corte en dos puntos\n",
    "def cruce(individuo1, individuo2):\n",
    "    # Seleccionar dos puntos aleatorios de corte\n",
    "    corte1 = random.randint(0, len(individuo1)-1)\n",
    "    corte2 = random.randint(0, len(individuo1)-1)\n",
    "    # Asegurar que corte2 > corte1\n",
    "    if corte2 < corte1:\n",
    "        corte1, corte2 = corte2, corte1\n",
    "    # Generar dos hijos combinando las partes de los padres\n",
    "    hijo1 = individuo1[:corte1] + individuo2[corte1:corte2] + individuo1[corte2:]\n",
    "    hijo2 = individuo2[:corte1] + individuo1[corte1:corte2] + individuo2[corte2:]\n",
    "    return hijo1, hijo2"
   ],
   "metadata": {
    "collapsed": false,
    "pycharm": {
     "name": "#%%\n"
    }
   }
  },
  {
   "cell_type": "markdown",
   "source": [
    "### Algoritmo Genético Básico"
   ],
   "metadata": {
    "collapsed": false,
    "pycharm": {
     "name": "#%% md\n"
    }
   }
  },
  {
   "cell_type": "code",
   "execution_count": 23,
   "outputs": [],
   "source": [
    "# Algoritmo genético\n",
    "def algoritmo_genetico_basico(n_individuos, max_iteraciones, max_iteraciones_sin_mejora, porcentaje_torneo):\n",
    "    # Inicializar parámetros de medición de rendimiento\n",
    "    totales_soluciones = []\n",
    "    contador_evaluaciones = 0\n",
    "    # Inicializar población\n",
    "    poblacion = inicializar_poblacion(n_individuos)\n",
    "    # Evaluar la población inicial\n",
    "    evaluaciones = [funcion_evaluacion(individuo) for individuo in poblacion]\n",
    "    contador_evaluaciones += len(poblacion)\n",
    "    # Encontrar el mejor individuo de la población inicial\n",
    "    valor_mejor_individuo = max(evaluaciones)\n",
    "    mejor_individuo = poblacion[evaluaciones.index(valor_mejor_individuo)]\n",
    "    contador_evaluaciones += 1\n",
    "    totales_soluciones.append(valor_mejor_individuo)\n",
    "    # Inicializar contador de iteraciones sin mejora\n",
    "    iter_sin_mejora = 0\n",
    "    # Bucle principal del algoritmo\n",
    "    for i in range(max_iteraciones):\n",
    "        # Seleccionar dos padres y asegurar que k es minimo 3\n",
    "        k = int(porcentaje_torneo * len(poblacion))\n",
    "        if k<3:\n",
    "            k = 3\n",
    "        padre1 = torneo(poblacion, k)\n",
    "        padre2 = torneo(poblacion, k)\n",
    "        # Aplicar operador de cruce para obtener dos hijos\n",
    "        hijo1, hijo2 = cruce(padre1, padre2)\n",
    "        # Evaluar los hijos\n",
    "        valor_hijo1 = funcion_evaluacion(hijo1)\n",
    "        contador_evaluaciones += 1\n",
    "        valor_hijo2 = funcion_evaluacion(hijo2)\n",
    "        contador_evaluaciones += 1\n",
    "        # Seleccionar el peor de los padres\n",
    "        peor_padre = torneo([padre1, padre2], 2)\n",
    "        valor_peor_padre = funcion_evaluacion(peor_padre)\n",
    "        contador_evaluaciones += 1\n",
    "        # Reemplazar el peor padre por el mejor hijo si lo mejora\n",
    "        if valor_hijo1 > valor_hijo2:\n",
    "            mejor_hijo = hijo1\n",
    "        else:\n",
    "            mejor_hijo = hijo2\n",
    "        valor_mejor_hijo = funcion_evaluacion(mejor_hijo)\n",
    "        contador_evaluaciones += 1\n",
    "        if valor_mejor_hijo > valor_peor_padre:\n",
    "            poblacion[poblacion.index(peor_padre)] = mejor_hijo\n",
    "            # Actualizar mejor individuo\n",
    "            if valor_mejor_hijo > valor_mejor_individuo:\n",
    "                mejor_individuo = mejor_hijo\n",
    "                valor_mejor_individuo = valor_mejor_hijo\n",
    "                iter_sin_mejora = 0\n",
    "            else:\n",
    "                iter_sin_mejora += 1\n",
    "        else:\n",
    "            iter_sin_mejora += 1\n",
    "\n",
    "        # Criterio de parada: si no hay mejora en el mejor individuo durante un número determinado de iteraciones\n",
    "        if iter_sin_mejora >= max_iteraciones_sin_mejora:\n",
    "            break\n",
    "\n",
    "        totales_soluciones.append(valor_mejor_individuo)\n",
    "\n",
    "    return mejor_individuo, contador_evaluaciones, totales_soluciones\n"
   ],
   "metadata": {
    "collapsed": false,
    "pycharm": {
     "name": "#%%\n"
    }
   }
  },
  {
   "cell_type": "code",
   "execution_count": 24,
   "outputs": [
    {
     "data": {
      "text/plain": "'\\nn_individuos= 30\\nmax_iteraciones = 2000\\nmax_iteraciones_sin_mejora = float(\"inf\")\\nporcentaje_torneo = 0.4\\n\\nparametros = [n_individuos, max_iteraciones, max_iteraciones_sin_mejora, porcentaje_torneo]\\n\\nalgorithm_name = algoritmo_genetico_basico_name\\n\\nAlgorithms_names.append(algorithm_name)\\n\\nmejor_data = evaluar_algoritmo(algorithm_name, parametros)\\n\\nData.append(mejor_data)'"
     },
     "execution_count": 24,
     "metadata": {},
     "output_type": "execute_result"
    }
   ],
   "source": [
    "'''\n",
    "n_individuos= 30\n",
    "max_iteraciones = 2000\n",
    "max_iteraciones_sin_mejora = float(\"inf\")\n",
    "porcentaje_torneo = 0.4\n",
    "\n",
    "parametros = [n_individuos, max_iteraciones, max_iteraciones_sin_mejora, porcentaje_torneo]\n",
    "\n",
    "algorithm_name = algoritmo_genetico_basico_name\n",
    "\n",
    "Algorithms_names.append(algorithm_name)\n",
    "\n",
    "mejor_data = evaluar_algoritmo(algorithm_name, parametros)\n",
    "\n",
    "Data.append(mejor_data)'''"
   ],
   "metadata": {
    "collapsed": false,
    "pycharm": {
     "name": "#%%\n"
    }
   }
  },
  {
   "cell_type": "markdown",
   "source": [
    "### Algoritmo Genético CHC\n",
    "\n",
    "Aunque el algoritmo CHC fue concebido para cromosomas con codificación binaria, existen versiones para su uso con cromosomas con codificación en vector. El cálculo de la distancia de Hamming se realizará teniendo en cuenta cuantos genes difieren entre sí (cuantas posiciones difieren). Sólo aquellas cadenas con una distancia (mayor del umbral) serán combinados. El umbral se inicializará a L/4 siendo L la longitud de la cadena o cromosoma.\n",
    "\n",
    "Cuando ningún descendiente es insertado en la nueva población el umbral se reduce a 1. En la fase de recombinación no se aplica ningún proceso de mutación. En su lugar, cuando la población converge o el proceso de búsqueda deja de progresar adecuadamente (el umbral de cruce llega a 0 y no se generan nuevos descendientes), la población se reiniciará. El cromosoma que represente la mejor solución hasta ese momento se utilizará como patrón para generar la nueva población (copiándose), y el resto se inicializarán de forma aleatoria.\n",
    "\n",
    "La población debe ser menor o igual a la elegida en el genético básico. En el arranque, los valores de un cromosoma corresponden al mejor individuo de la generación anterior, y el resto serán aleatorios.\n",
    "\n",
    "Se pueden poner más copias del mejor individuo para acelerar el proceso de reinicio si este es muy lento tras la primera reinicialización.\n",
    "\n",
    "Hay que utilizar uno de los siguientes cruces:\n",
    "- Parent Centered\n",
    "- BLX-Alfa\n",
    "\n",
    "Los cruces en CHC se hacen cambiando exactamente la mitad de los elementos QUE SON DISTINTOS en ambos padres y luego aplicando Parent Centered (una mutación similar a la mutación del genético básico) o BLX-Alpha (que genera un valor para cada hijo aplicando el algoritmo descrito en los apuntes).\n",
    "\n",
    "Deberá reiniciar a menos cuatro veces. Criterio de parada: un número de iteraciones determinado por el alumno según la evolución del fitness sin que el mejor individuo haya mejorado su valor."
   ],
   "metadata": {
    "collapsed": false,
    "pycharm": {
     "name": "#%% md\n"
    }
   }
  },
  {
   "cell_type": "code",
   "execution_count": 25,
   "outputs": [],
   "source": [
    "# Función de distancia Hamming\n",
    "def distancia_hamming_chc(individuo1, individuo2):\n",
    "    distancia = sum(1 for i in range(len(individuo1)) if individuo1[i] != individuo2[i])\n",
    "    return distancia\n",
    "\n",
    "# Función de selección\n",
    "def seleccion_chc(poblacion, tamano_nuevo, distancia_maxima):\n",
    "    nueva_poblacion = []\n",
    "    while len(nueva_poblacion) < tamano_nuevo:\n",
    "        # Seleccionar un individuo aleatorio de la población\n",
    "        individuo = random.choice(poblacion)\n",
    "        # Generar un individuo aleatorio que tenga una distancia máxima con el seleccionado\n",
    "        individuo_nuevo = copy.deepcopy(individuo)\n",
    "        while distancia_hamming_chc(individuo_nuevo, individuo) < distancia_maxima:\n",
    "            for i in range(len(individuo)):\n",
    "                if random.random() < 0.5:\n",
    "                    individuo_nuevo[i] = individuo[i]\n",
    "                else:\n",
    "                    individuo_nuevo[i] = 1 - individuo[i]\n",
    "        # Añadir el nuevo individuo a la nueva población\n",
    "        nueva_poblacion.append(individuo_nuevo)\n",
    "    return nueva_poblacion\n",
    "\n",
    "# Algoritmo genético CHC\n",
    "def algoritmo_genetico_chc(n_individuos, max_iteraciones, tamano_nuevo, distancia_maxima):\n",
    "    # Inicializar parámetros de medición de rendimiento\n",
    "    totales_soluciones = []\n",
    "    contador_evaluaciones = 0\n",
    "    # Inicializar población\n",
    "    poblacion = inicializar_poblacion(n_individuos)\n",
    "    # Evaluar la población inicial\n",
    "    evaluaciones = [funcion_evaluacion(individuo) for individuo in poblacion]\n",
    "    contador_evaluaciones += len(poblacion)\n",
    "    # Encontrar el mejor individuo de la población inicial\n",
    "    valor_mejor_individuo = max(evaluaciones)\n",
    "    mejor_individuo = poblacion[evaluaciones.index(valor_mejor_individuo)]\n",
    "    contador_evaluaciones += 1\n",
    "    totales_soluciones.append(valor_mejor_individuo)\n",
    "    # Bucle principal del algoritmo\n",
    "    for i in range(max_iteraciones):\n",
    "        # Seleccionar una nueva población\n",
    "        poblacion = seleccion_chc(poblacion, tamano_nuevo, distancia_maxima)\n",
    "        # Evaluar la población\n",
    "        evaluaciones = [funcion_evaluacion(individuo) for individuo in poblacion]\n",
    "        contador_evaluaciones += len(poblacion)\n",
    "        # Encontrar el mejor individuo de la población\n",
    "        valor_mejor_individuo_iter = max(evaluaciones)\n",
    "        mejor_individuo_iter = poblacion[evaluaciones.index(valor_mejor_individuo_iter)]\n",
    "        contador_evaluaciones += 1\n",
    "        # Actualizar el mejor individuo global si corresponde\n",
    "        if valor_mejor_individuo_iter > valor_mejor_individuo:\n",
    "            valor_mejor_individuo = valor_mejor_individuo_iter\n",
    "            mejor_individuo = mejor_individuo_iter\n",
    "\n",
    "        totales_soluciones.append(valor_mejor_individuo)\n",
    "    return mejor_individuo, contador_evaluaciones, totales_soluciones"
   ],
   "metadata": {
    "collapsed": false,
    "pycharm": {
     "name": "#%%\n"
    }
   }
  },
  {
   "cell_type": "code",
   "execution_count": 26,
   "outputs": [
    {
     "data": {
      "text/plain": "'\\nn_individuos= 30\\nmax_iteraciones = 2000\\ntamano_nuevo = int(n_individuos/2)\\ndistancia_maxima = 0.4\\n\\nparametros = [n_individuos, max_iteraciones, tamano_nuevo, distancia_maxima]\\n\\nalgorithm_name = algoritmo_genetico_CHC_name\\n\\nAlgorithms_names.append(algorithm_name)\\n\\nmejor_data = evaluar_algoritmo(algorithm_name, parametros)\\n\\nData.append(mejor_data)'"
     },
     "execution_count": 26,
     "metadata": {},
     "output_type": "execute_result"
    }
   ],
   "source": [
    "'''\n",
    "n_individuos= 30\n",
    "max_iteraciones = 2000\n",
    "tamano_nuevo = int(n_individuos/2)\n",
    "distancia_maxima = 0.4\n",
    "\n",
    "parametros = [n_individuos, max_iteraciones, tamano_nuevo, distancia_maxima]\n",
    "\n",
    "algorithm_name = algoritmo_genetico_CHC_name\n",
    "\n",
    "Algorithms_names.append(algorithm_name)\n",
    "\n",
    "mejor_data = evaluar_algoritmo(algorithm_name, parametros)\n",
    "\n",
    "Data.append(mejor_data)'''"
   ],
   "metadata": {
    "collapsed": false,
    "pycharm": {
     "name": "#%%\n"
    }
   }
  },
  {
   "cell_type": "markdown",
   "source": [
    "### Algoritmo Genético Multimodal\n",
    "\n",
    "Considerando como partida el AG Básico, debe implementar un AG multimodal espacial mediante el método de secuencial (5 nichos) o clearing, determinando un radio adecuado basado en la distancia de hamming.\n",
    "\n",
    "- Donde d(i,j) es la distancia entre las soluciones.(distancia Hamming)\n",
    "- Tamaño de la población menor o igual al genético básico.\n",
    "- Probabilidad de cruce 0.8. (si no se cruza se copia como hijo )\n",
    "- Mantener misma mutación que en el algoritmo básico.\n",
    "\n",
    "El valor del radio tanto para el secuencial como para el clearing es crítico y debe ser propuesto por el alumno para que las soluciones finales sean suficientemente diferentes. Un radio muy pequeño no afectará casi nunca a los individuos al realizar el clearing o adaptar el fitness en el conjunto de soluciones y un valor muy alto hará que todos estén penalizados\n",
    "\n",
    "En clearing es conveniente dejar un número de generaciones entre operaciones de aclarado, este parámetro denominado P, en el el generacional P iteraciones y en el estacionario p*Población/2 ya que una población equivalente se genera cada ese número de cruces. La kappa (numero de representantes de un nicho tiene que ser >= 2, para evitar que en un clearing quede sólo un elemento si los demás están en el mismo nicho y así poder generar el resto de los individuos hasta  rellenar la población cruzando los que hayan quedado del aclarado."
   ],
   "metadata": {
    "collapsed": false,
    "pycharm": {
     "name": "#%% md\n"
    }
   }
  },
  {
   "cell_type": "markdown",
   "source": [
    "El algoritmo genético básico se puede transformar en un algoritmo multimodal espacial mediante la inclusión de un enfoque de búsqueda por vecindarios. La idea es buscar soluciones dentro de un vecindario alrededor de la mejor solución actual y explorar múltiples vecindarios simultáneamente para buscar soluciones óptimas en múltiples regiones del espacio de búsqueda.\n",
    "\n",
    "Para implementar esta idea, se pueden seguir los siguientes pasos:\n",
    "\n",
    "1. Dividir el espacio de búsqueda en múltiples vecindarios.\n",
    "2. Inicializar una población en cada vecindario.\n",
    "3. Evaluar la población inicial en cada vecindario.\n",
    "4. Encontrar el mejor individuo de cada población inicial y compararlos para seleccionar el mejor individuo global.\n",
    "5. Iniciar un contador de iteraciones sin mejora en cada vecindario.\n",
    "6. Bucle principal del algoritmo:\n",
    "    a. Seleccionar dos padres de cada vecindario y aplicar operador de cruce para obtener dos hijos.\n",
    "    b. Evaluar los hijos en cada vecindario.\n",
    "    c. Seleccionar el peor de los padres en cada vecindario.\n",
    "    d. Reemplazar el peor padre por el mejor hijo si lo mejora en cada vecindario.\n",
    "    e. Actualizar el mejor individuo global si se encuentra una solución mejor.\n",
    "    f. Actualizar los contadores de iteraciones sin mejora en cada vecindario.\n",
    "    g. Criterio de parada: si no hay mejora en el mejor individuo durante un número determinado de iteraciones en todos los vecindarios.\n",
    "7. Retornar el mejor individuo global y el número total de evaluaciones de la función objetivo."
   ],
   "metadata": {
    "collapsed": false,
    "pycharm": {
     "name": "#%% md\n"
    }
   }
  },
  {
   "cell_type": "markdown",
   "source": [
    "Método Secuencial estacionario"
   ],
   "metadata": {
    "collapsed": false,
    "pycharm": {
     "name": "#%% md\n"
    }
   }
  },
  {
   "cell_type": "code",
   "execution_count": 40,
   "outputs": [],
   "source": [
    "# Función de mutación: mutación por intercambio\n",
    "def mutacion(poblacion):\n",
    "    for i in range(len(poblacion)):\n",
    "        individuo = poblacion[i]\n",
    "        min_genes_a_mutar = int(0.05 * len(individuo))\n",
    "        max_genes_a_mutar = int(0.2 * len(individuo))\n",
    "        num_genes_mutados = random.randint(min_genes_a_mutar, max_genes_a_mutar)\n",
    "        genes_mutados = random.sample(range(len(individuo)), num_genes_mutados)\n",
    "        for j in genes_mutados:\n",
    "            gen = individuo[j]\n",
    "            rango_mutacion = int(0.1 * abs(gen))\n",
    "            mutacion = random.randint(-rango_mutacion, rango_mutacion)\n",
    "            individuo[j] += mutacion\n",
    "            if individuo[j] > 100:\n",
    "                individuo[j] = 100\n",
    "            elif individuo[j] < -100:\n",
    "                individuo[j] = -100\n",
    "    return poblacion\n",
    "\n",
    "\n",
    "def algoritmo_genetico_multimodal(n_individuos, max_iteraciones, max_iteraciones_sin_mejora, porcentaje_torneo, n_nichos = 5, radio = 20):\n",
    "    # Inicializar parámetros de medición de rendimiento\n",
    "    totales_soluciones = []\n",
    "    contador_evaluaciones = 0\n",
    "\n",
    "    # Dividir el espacio de búsqueda en múltiples vecindarios\n",
    "    # vecindarios = dividir_espacio(n_nichos, radio)\n",
    "\n",
    "    # Inicializar población y evaluaciones en cada vecindario\n",
    "    poblaciones = [inicializar_poblacion(n_individuos) for _ in range(n_nichos)]\n",
    "    # Evaluar la población de cada vecindario\n",
    "    evaluaciones = [[funcion_evaluacion(individuo) for individuo in poblacion] for poblacion in poblaciones]\n",
    "    contador_evaluaciones += sum([len(poblacion) for poblacion in poblaciones])\n",
    "\n",
    "    # Encontrar el mejor individuo global de la población inicial\n",
    "    mejor_individuo = None\n",
    "    valor_mejor_individuo = float(\"-inf\")\n",
    "    for i in range(n_nichos):\n",
    "        mejor_local = poblaciones[i][evaluaciones[i].index(max(evaluaciones[i]))]\n",
    "        valor_mejor_local = max(evaluaciones[i])\n",
    "        if valor_mejor_local > valor_mejor_individuo:\n",
    "            mejor_individuo = mejor_local\n",
    "            valor_mejor_individuo = valor_mejor_local\n",
    "    totales_soluciones.append(valor_mejor_individuo)\n",
    "\n",
    "    # Inicializar contador de iteraciones sin mejora en cada vecindario\n",
    "    iters_sin_mejora = [0 for _ in range(n_nichos)]\n",
    "\n",
    "    # Iterar hasta alcanzar el número máximo de iteraciones\n",
    "    for iteracion in range(max_iteraciones):\n",
    "        # a. Seleccionar dos padres de cada vecindario y aplicar operador de cruce para obtener dos hijos.\n",
    "        # Seleccionar los padres en cada vecindario\n",
    "        k = int(porcentaje_torneo*len(poblaciones[i]))\n",
    "        padres = [[] for i in range(n_nichos)]\n",
    "        for i in range(n_nichos):\n",
    "            # 2 padres\n",
    "            for _ in range(2):\n",
    "                padres[i].append(torneo(poblaciones[i], k))\n",
    "        # padres = [[torneo(poblaciones[i], k) for _ in range(2)] for i in range(n_nichos)]\n",
    "\n",
    "        # Cruzar los padres en cada vecindario\n",
    "        hijos = [[cruce(padres[i][0], padres[i][1]) for _ in range(n_individuos)] for i in range(n_nichos)]\n",
    "\n",
    "        # Mutar los hijos en cada vecindario\n",
    "        # hijos_mutados = [[mutacion(hijos[i][j]) for j in range(n_individuos)] for i in range(n_nichos)]\n",
    "        # Mutar los hijos en cada vecindario\n",
    "        for i in range(n_nichos):\n",
    "            for j in range(n_individuos):\n",
    "                hijos[i][j] = mutacion(hijos[i][j])\n",
    "\n",
    "        # Evaluar los hijos mutados en cada vecindario y actualizar contador de evaluaciones\n",
    "        evaluaciones_hijos = [[[[] for i in range(2)] for i in range(n_individuos)] for i in range(n_nichos)]\n",
    "        for i, poblacion_hijos in enumerate(hijos):\n",
    "            for conjunto_hijos in poblacion_hijos:\n",
    "                for hijo in conjunto_hijos:\n",
    "                    evaluaciones_hijos[i].append(funcion_evaluacion(hijo))\n",
    "                    contador_evaluaciones += 1\n",
    "        # evaluaciones_hijos = [[funcion_evaluacion(individuo) for individuo in poblacion] for poblacion in hijos]\n",
    "        # contador_evaluaciones += sum([len(poblacion) for poblacion in hijos])\n",
    "\n",
    "        # Reemplazar individuos peores en cada vecindario con los hijos mutados\n",
    "        for i in range(n_nichos):\n",
    "            indices_peores = sorted(range(len(evaluaciones[i])), key=lambda x: evaluaciones[i][x])[:n_individuos]\n",
    "            for j in range(n_individuos):\n",
    "                if j not in indices_peores:\n",
    "                    continue\n",
    "                peor_individuo = poblaciones[i][j]\n",
    "                peor_evaluacion = evaluaciones[i][j]\n",
    "                indice_reemplazo = evaluaciones_hijos[i].index(max(evaluaciones_hijos[i]))\n",
    "                # Reemplazar peor individuo en vecindario i con mejor hijo mutado\n",
    "                poblaciones[i][j] = hijos[i][indice_reemplazo]\n",
    "                evaluaciones[i][j] = evaluaciones_hijos[i][indice_reemplazo]\n",
    "                iters_sin_mejora[i] = 0\n",
    "\n",
    "        # Actualizar contador de iteraciones sin mejora en cada vecindario\n",
    "        for i in range(n_nichos):\n",
    "            if max(evaluaciones[i]) <= totales_soluciones[-1]:\n",
    "                iters_sin_mejora[i] += 1\n",
    "            else:\n",
    "                iters_sin_mejora[i] = 0\n",
    "\n",
    "        # Verificar si se ha alcanzado el número máximo de iteraciones sin mejora en algún vecindario\n",
    "        if max(iters_sin_mejora) >= max_iteraciones_sin_mejora:\n",
    "            break\n",
    "\n",
    "        # Encontrar el mejor individuo global después de reemplazar los peores individuos\n",
    "        valor_mejor_individuo = float(\"-inf\")\n",
    "        for i in range(n_nichos):\n",
    "            valor_mejor_local = max(evaluaciones[i])\n",
    "            if valor_mejor_local > valor_mejor_individuo:\n",
    "                mejor_local = poblaciones[i][evaluaciones[i].index(max(evaluaciones[i]))]\n",
    "                valor_mejor_individuo = valor_mejor_local\n",
    "                valor_mejor_individuo = valor_mejor_local\n",
    "        totales_soluciones.append(valor_mejor_individuo)\n",
    "\n",
    "    # Devolver mejor solución encontrada y evaluaciones totales\n",
    "    return mejor_individuo, totales_soluciones, contador_evaluaciones\n",
    "\n",
    "\n",
    "n_individuos= 30\n",
    "max_iteraciones = 2000\n",
    "max_iteraciones_sin_mejora = float(\"inf\")\n",
    "porcentaje_torneo = 0.4\n",
    "n_nicho = 5\n",
    "radio = 10\n",
    "\n",
    "parametros = [n_individuos, max_iteraciones, max_iteraciones_sin_mejora, porcentaje_torneo, n_nicho, radio]\n",
    "\n",
    "algorithm_name = algoritmo_genetico_multimodal_name\n",
    "\n",
    "evaluar_algoritmo(algorithm_name, parametros)"
   ],
   "metadata": {
    "collapsed": false,
    "pycharm": {
     "name": "#%%\n"
    }
   }
  },
  {
   "cell_type": "code",
   "execution_count": null,
   "outputs": [],
   "source": [
    "n_individuos= 30\n",
    "max_iteraciones = 2000\n",
    "max_iteraciones_sin_mejora = float(\"inf\")\n",
    "porcentaje_torneo = 0.4\n",
    "n_nicho = 5\n",
    "radio = 10\n",
    "\n",
    "parametros = [n_individuos, max_iteraciones, max_iteraciones_sin_mejora, porcentaje_torneo, n_nicho, radio]\n",
    "\n",
    "algorithm_name = algoritmo_genetico_multimodal_name\n",
    "\n",
    "Algorithms_names.append(algorithm_name)\n",
    "\n",
    "mejor_data = evaluar_algoritmo(algorithm_name, parametros)\n",
    "\n",
    "Data.append(mejor_data)"
   ],
   "metadata": {
    "collapsed": false,
    "pycharm": {
     "name": "#%%\n"
    }
   }
  },
  {
   "cell_type": "markdown",
   "source": [
    "## Resultados Finales"
   ],
   "metadata": {
    "collapsed": false,
    "pycharm": {
     "name": "#%% md\n"
    }
   }
  },
  {
   "cell_type": "code",
   "execution_count": null,
   "outputs": [],
   "source": [
    "Header = [\"Ev. Medias\", \"Ev. Mejor\", \"Ev. Desviación\", \"Mejor €\", \"Media €\", \"Desviación €\", \"Ev. Mejor €\", \"Ev. Medias Mejor\"]\n",
    "\n",
    "# Algorithms_names.append(0)\n",
    "# Data.append([0,0,0,0,0,0,0,0])\n",
    "\n",
    "import numpy as np\n",
    "\n",
    "Data_copy = np.array(Data)\n",
    "\n",
    "# print(pd.DataFrame(Data.transpose(), Header, column))\n",
    "\n",
    "# ev_media, ev_mejor, ev_desviacion, euro_mejor, euro_media, euro_desviacion = v\n",
    "\n",
    "format_row = \"{:>19}\" * (len(Header) + 1)\n",
    "print(format_row.format(\"\", *Algorithms_names))\n",
    "for dat, row in zip(Header, Data_copy.transpose()):\n",
    "    print(format_row.format(dat, *row))"
   ],
   "metadata": {
    "collapsed": false,
    "pycharm": {
     "name": "#%%\n"
    }
   }
  },
  {
   "cell_type": "code",
   "execution_count": null,
   "outputs": [],
   "source": [],
   "metadata": {
    "collapsed": false,
    "pycharm": {
     "name": "#%%\n"
    }
   }
  }
 ],
 "metadata": {
  "kernelspec": {
   "display_name": "Python 3",
   "language": "python",
   "name": "python3"
  },
  "language_info": {
   "codemirror_mode": {
    "name": "ipython",
    "version": 2
   },
   "file_extension": ".py",
   "mimetype": "text/x-python",
   "name": "python",
   "nbconvert_exporter": "python",
   "pygments_lexer": "ipython2",
   "version": "2.7.6"
  }
 },
 "nbformat": 4,
 "nbformat_minor": 0
}