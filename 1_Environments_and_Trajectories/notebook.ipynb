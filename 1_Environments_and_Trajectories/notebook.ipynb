{
 "cells": [
  {
   "cell_type": "markdown",
   "source": [
    "# Entornos y Trayectorias\n",
    "\n",
    "El objetivo de esta práctica es estudiar el funcionamiento de los Algoritmos de Búsqueda Aleatoria, Local, Enfriamiento Simulado y Búsqueda Tabú.\n",
    "\n",
    "El comportamiento de los algoritmos de OCH implementados deberá compararse con un Algoritmo Greedy\n",
    "\n",
    "Este algoritmo debe maximizar los ingresos diarios para una instalación de planta solar que tiene una capacidad total de 1000 m2 con un rendimiento del 20% de la energía recibida. La planta posee una batería que puede almacenar energía antes de venderse de 300 kWh de capacidad.\n",
    "\n",
    "Recibirás el día anterior una previsión meteorológica con la radiación por hora en un vector R (24 enteros\n",
    "con w por m2) y el precio previsto de la energía cada hora en P (24 valores reales en euros por cada kWh)\n",
    "\n",
    "El algoritmo debe decidir que decidir por cada hora cuánta energía se venderá / comprará, la energía que se produce cada hora (o compra) y no se vende se almacena en la batería (que tiene un límite de 300kwh y comienza vacía todos los días). Toda la energía que no almacena ni vende se desperdicia.\n",
    "\n",
    "Precio por día por kWh: a continuación, se muestran los precios reales para el día de hoy en la península, genera una lista de valores a mano deduciéndolos de la grafica en una variable o en un fichero con los valores en céntimos de euro por horas (24 valores).\n",
    "\n",
    "Asume estos valores como precios de venta de los kWh producidos en planta."
   ],
   "metadata": {
    "collapsed": false,
    "pycharm": {
     "name": "#%% md\n"
    }
   }
  },
  {
   "cell_type": "markdown",
   "source": [
    "## Librerías"
   ],
   "metadata": {
    "collapsed": false,
    "pycharm": {
     "name": "#%% md\n"
    }
   }
  },
  {
   "cell_type": "code",
   "execution_count": 1,
   "outputs": [],
   "source": [
    "import random\n",
    "import math"
   ],
   "metadata": {
    "collapsed": false,
    "pycharm": {
     "name": "#%%\n"
    }
   }
  },
  {
   "cell_type": "markdown",
   "source": [
    "### Parámetros"
   ],
   "metadata": {
    "collapsed": false,
    "pycharm": {
     "name": "#%% md\n"
    }
   }
  },
  {
   "cell_type": "code",
   "execution_count": 2,
   "outputs": [],
   "source": [
    "# establecer semilla\n",
    "random.seed(751)"
   ],
   "metadata": {
    "collapsed": false,
    "pycharm": {
     "name": "#%%\n"
    }
   }
  },
  {
   "cell_type": "markdown",
   "source": [
    "#### Precio\n",
    "\n",
    "Precio de compra y precio de venta forman el array de 2 filas precio donde:\n",
    "- precio[0] corresponde al precio_compra\n",
    "- precio[1] corresponda al precio_venta\n",
    "\n",
    "El precio se expresa en cents/kWh"
   ],
   "metadata": {
    "collapsed": false,
    "pycharm": {
     "name": "#%% md\n"
    }
   }
  },
  {
   "cell_type": "code",
   "execution_count": 3,
   "outputs": [],
   "source": [
    "\n",
    "# precio[0] = precios de compra\n",
    "precio_compra = [26, 26, 25, 24,23,24,25,27,30,29,34,32,31,31,25,24,25,26,34,36,39,40,38,29] # precio[0]\n",
    "\n",
    "'''for idx, precio in enumerate(precio_compra):\n",
    "    precio_compra[idx] = kwh_w(precio)'''\n",
    "\n",
    "# precio[1] = precios de venta\n",
    "precio_venta = [24, 23, 22, 23,22,22,20,20,20,19,19,20,19,20,22,23,22,23,26,28,34,35,34,24] # 21 = max\n",
    "\n",
    "'''for idx, precio in enumerate(precio_venta):\n",
    "    precio_venta[idx] = kwh_w(precio)'''\n",
    "\n",
    "precio = [precio_compra, precio_venta]"
   ],
   "metadata": {
    "collapsed": false,
    "pycharm": {
     "name": "#%%\n"
    }
   }
  },
  {
   "cell_type": "code",
   "execution_count": 4,
   "outputs": [],
   "source": [
    "def kwh_w(energia_kwh):\n",
    "    return energia_kwh * 1000\n",
    "\n",
    "def w_kwh(energia_w):\n",
    "    return energia_w / 1000"
   ],
   "metadata": {
    "collapsed": false,
    "pycharm": {
     "name": "#%%\n"
    }
   }
  },
  {
   "cell_type": "code",
   "execution_count": 5,
   "metadata": {
    "collapsed": true,
    "pycharm": {
     "name": "#%%\n"
    }
   },
   "outputs": [],
   "source": [
    "# radiacion W/h en m2\n",
    "radiacion = [0, 0, 0, 0, 0, 0, 0, 0, 100, 313, 500, 661, 786, 419, 865, 230, 239, 715, 634, 468, 285, 96, 0, 0]\n",
    "\n",
    "horas = [0] * 24\n",
    "for idx, hora in enumerate(horas):\n",
    "    horas[idx] = idx"
   ]
  },
  {
   "cell_type": "code",
   "execution_count": 6,
   "outputs": [
    {
     "data": {
      "text/plain": "'dinero = 0\\n\\nacciones = [0] * 24 # vector con acciones a realizar\\n\\n# Parámetros del algoritmo\\nT_inicial = 100\\nT_final = 0.1\\nfactor_enfriamiento = 0.95\\niteraciones_por_T = 100\\n\\n# Inicialización de la temperatura\\nT = T_inicial'"
     },
     "execution_count": 6,
     "metadata": {},
     "output_type": "execute_result"
    }
   ],
   "source": [
    "superficie = 1000   # m2\n",
    "ganancia = 0.2  # 20%\n",
    "bateria_maxima = 300 # * 1000     # kW * 1000 = W\n",
    "\n",
    "bateria_capacidad_porcentaje = 0\n",
    "\n",
    "'''dinero = 0\n",
    "\n",
    "acciones = [0] * 24 # vector con acciones a realizar\n",
    "\n",
    "# Parámetros del algoritmo\n",
    "T_inicial = 100\n",
    "T_final = 0.1\n",
    "factor_enfriamiento = 0.95\n",
    "iteraciones_por_T = 100\n",
    "\n",
    "# Inicialización de la temperatura\n",
    "T = T_inicial'''"
   ],
   "metadata": {
    "collapsed": false,
    "pycharm": {
     "name": "#%%\n"
    }
   }
  },
  {
   "cell_type": "markdown",
   "source": [
    "El resultado esperado es la cantidad en euros conseguida en el día, calculada como el precio por kWh vendidos en esa Hora. Dado que lo que podamos vender dependerá de la carga de la batería en dicho momento no se puede saber de antemano el resultado, por lo que el resultado será calculado mediante una simulación usando los precios y radiación. La simulación interpretará las instrucciones en la solución actual a evaluar calculando cada hora la carga de la batería y la cantidad en euros, que puede ser negativa."
   ],
   "metadata": {
    "collapsed": false,
    "pycharm": {
     "name": "#%% md\n"
    }
   }
  },
  {
   "cell_type": "markdown",
   "source": [
    "## Funciones auxiliares"
   ],
   "metadata": {
    "collapsed": false,
    "pycharm": {
     "name": "#%% md\n"
    }
   }
  },
  {
   "cell_type": "markdown",
   "source": [
    "#### Energia"
   ],
   "metadata": {
    "collapsed": false,
    "pycharm": {
     "name": "#%% md\n"
    }
   }
  },
  {
   "cell_type": "code",
   "execution_count": 7,
   "outputs": [],
   "source": [
    "def energia_a_porcentaje(energia):\n",
    "    \"\"\"\n",
    "    :param energia: energia en W\n",
    "    :return porcentaje_bateria: equivalente de esos W en porcentaje de la bateria\n",
    "    \"\"\"\n",
    "    porcentaje_bateria = (energia / bateria_maxima) * 100\n",
    "\n",
    "    return porcentaje_bateria\n",
    "\n",
    "\n",
    "def porcentaje_a_energia(porcentaje):\n",
    "    \"\"\"\n",
    "    :param porcentaje: equivalente de esos W en porcentaje de la bateria\n",
    "    :return energia: energia en W\n",
    "    \"\"\"\n",
    "    energia = (porcentaje * bateria_maxima) / 100\n",
    "\n",
    "    return energia"
   ],
   "metadata": {
    "collapsed": false,
    "pycharm": {
     "name": "#%%\n"
    }
   }
  },
  {
   "cell_type": "markdown",
   "source": [
    "#### Precio"
   ],
   "metadata": {
    "collapsed": false,
    "pycharm": {
     "name": "#%% md\n"
    }
   }
  },
  {
   "cell_type": "code",
   "execution_count": 8,
   "outputs": [],
   "source": [
    "def ekwh_a_centwh(euros):\n",
    "    \"\"\"\n",
    "    :param euros: precio en euros kWh\n",
    "    :return cents: precio en cents W\n",
    "    \"\"\"\n",
    "    cents = (euros * 100) / 1000\n",
    "\n",
    "    return cents\n",
    "\n",
    "def centwh_a_ekwh(cents):\n",
    "    \"\"\"\n",
    "    :param euros: precio en euros kWh\n",
    "    :return cents: precio en cents W\n",
    "    \"\"\"\n",
    "    euros = (cents / 100) * 1000\n",
    "\n",
    "    return euros"
   ],
   "metadata": {
    "collapsed": false,
    "pycharm": {
     "name": "#%%\n"
    }
   }
  },
  {
   "cell_type": "markdown",
   "source": [
    "## Algoritmos de Búsqueda Local"
   ],
   "metadata": {
    "collapsed": false,
    "pycharm": {
     "name": "#%% md\n"
    }
   }
  },
  {
   "cell_type": "markdown",
   "source": [
    "### Greedy"
   ],
   "metadata": {
    "collapsed": false,
    "pycharm": {
     "name": "#%% md\n"
    }
   }
  },
  {
   "cell_type": "code",
   "execution_count": 18,
   "outputs": [
    {
     "data": {
      "text/plain": "25.742"
     },
     "execution_count": 18,
     "metadata": {},
     "output_type": "execute_result"
    }
   ],
   "source": [
    "# (radiacion)\n",
    "bateria_capacidad_porcentaje = 0\n",
    "dinero_total = 0\n",
    "\n",
    "hora_venta_pico = precio[1].index(max(precio[1]))\n",
    "\n",
    "# para la representacion de las funciones\n",
    "dinero_hora = [0 for _ in range(24)]\n",
    "bateria_hora = [0 for _ in range(24)]\n",
    "# energia_disponible_hora = [0 for _ in range(24)]\n",
    "\n",
    "for hora in horas:\n",
    "    energia_recibida = w_kwh(radiacion[hora]) * superficie * ganancia  # a kwh\n",
    "    bateria_capacidad_porcentaje = int(bateria_capacidad_porcentaje + (energia_a_porcentaje(energia_recibida)))     # incrementar % de la bateria, obligar que sea int\n",
    "\n",
    "    if bateria_capacidad_porcentaje > 100:\n",
    "        porcentaje_bateria_sobrante = bateria_capacidad_porcentaje - 100\n",
    "        bateria_capacidad_porcentaje = 100\n",
    "        dinero_total += (porcentaje_a_energia(porcentaje_bateria_sobrante) * precio[1][hora])\n",
    "\n",
    "    if hora >= hora_venta_pico:\n",
    "        precio_venta_actual = precio[1][hora]\n",
    "        dinero_total += (bateria_capacidad_porcentaje * precio_venta_actual)\n",
    "        bateria_capacidad_porcentaje = 0\n",
    "\n",
    "    bateria_hora[hora] = bateria_capacidad_porcentaje\n",
    "    dinero_hora[hora] = dinero_total / 100\n",
    "\n",
    "dinero_total / 1000\n",
    "# return dinero_total"
   ],
   "metadata": {
    "collapsed": false,
    "pycharm": {
     "name": "#%%\n"
    }
   }
  },
  {
   "cell_type": "code",
   "execution_count": 20,
   "outputs": [
    {
     "data": {
      "text/plain": "<Figure size 640x480 with 1 Axes>",
      "image/png": "[encoded data removed]"
     },
     "metadata": {},
     "output_type": "display_data"
    }
   ],
   "source": [
    "import matplotlib.pyplot as plt\n",
    "\n",
    "# Dinero acumulado en cada hora\n",
    "plt.plot([i for i in range(24)], dinero_hora)\n",
    "# Capacidad de la bateria en cada hora\n",
    "plt.plot([i for i in range(24)], [b * max(dinero_hora) / bateria_maxima for b in bateria_hora])\n",
    "\n",
    "# Linea de hora de venta\n",
    "plt.plot([hora_venta_pico for _ in [0, round(max(dinero_hora))]],\n",
    "         [i for i in [0, round(max(dinero_hora))]], linestyle=':')\n",
    "plt.legend([\"Dinero\", \"Batería\", \"Hora de Venta (Pico)\"])\n",
    "plt.show()\n"
   ],
   "metadata": {
    "collapsed": false,
    "pycharm": {
     "name": "#%%\n"
    }
   }
  },
  {
   "cell_type": "code",
   "execution_count": 14,
   "outputs": [],
   "source": [
    "# (radiacion)\n",
    "bateria_capacidad_porcentaje = 0\n",
    "dinero_total = 0\n",
    "\n",
    "hora_venta_pico = precio[1].index(max(precio[1]))\n",
    "\n",
    "\n",
    "\n",
    "for hora in horas:\n",
    "    energia_recibida = (radiacion[hora] / 1000) * superficie * ganancia  # a kwh\n",
    "    bateria_capacidad_porcentaje = int(bateria_capacidad_porcentaje + (energia_a_porcentaje(energia_recibida)))     # incrementar % de la bateria, obligar que sea int\n",
    "\n",
    "    if bateria_capacidad_porcentaje > 100:\n",
    "        porcentaje_bateria_sobrante = bateria_capacidad_porcentaje - 100\n",
    "        bateria_capacidad_porcentaje = 100\n",
    "        dinero_total += (porcentaje_a_energia(porcentaje_bateria_sobrante) * precio[1][hora])\n",
    "\n",
    "    if hora == hora_venta_pico:\n",
    "        precio_venta_actual = precio[1][hora]\n",
    "        dinero_total += (bateria_capacidad_porcentaje * precio_venta_actual)\n",
    "        bateria_capacidad_porcentaje = 0\n",
    "\n",
    "dinero_total / 1000\n",
    "# return dinero_total"
   ],
   "metadata": {
    "collapsed": false,
    "pycharm": {
     "name": "#%%\n"
    }
   }
  },
  {
   "cell_type": "code",
   "execution_count": 15,
   "outputs": [
    {
     "data": {
      "text/plain": "136552000000.0"
     },
     "execution_count": 15,
     "metadata": {},
     "output_type": "execute_result"
    }
   ],
   "source": [
    "centwh_a_ekwh(dinero_total)"
   ],
   "metadata": {
    "collapsed": false,
    "pycharm": {
     "name": "#%%\n"
    }
   }
  },
  {
   "cell_type": "code",
   "execution_count": null,
   "outputs": [],
   "source": [
    "# Para efectuar la comparativa de resultados entre los distintos algoritmos de búsqueda, se debe implementar como algoritmo básico, un Greedy, siguiendo la heurística de guardar desde el principio hasta que se llene y luego vender en el pico de precio del dia todo. A partir de ese momento vender todo.\n",
    "\n",
    "def greedy(precio):\n",
    "    bateria = 0\n",
    "    ganancias = 0\n",
    "\n",
    "    hora_venta = precio[1].index(max(precio[1]))\n",
    "\n",
    "    for i in range(len(datos)):\n",
    "        energia_recibida = datos[i]\n",
    "        capacidad_bateria = bateria + energia_recibida\n",
    "\n",
    "        if capacidad_bateria <= 300:\n",
    "            bateria = capacidad_bateria\n",
    "        else:\n",
    "            sobrante = capacidad_bateria - 300\n",
    "            ganancias += sobrante * precio_electricidad[i]\n",
    "            bateria = 300\n",
    "\n",
    "        if i == precio_electricidad.index(max(precio_electricidad)):\n",
    "            ganancias += bateria * precio_electricidad[i]\n",
    "            bateria = 0\n",
    "\n",
    "    return ganancias"
   ],
   "metadata": {
    "collapsed": false,
    "pycharm": {
     "name": "#%%\n"
    }
   }
  },
  {
   "cell_type": "markdown",
   "source": [
    "### Simulated Annealing"
   ],
   "metadata": {
    "collapsed": false,
    "pycharm": {
     "name": "#%% md\n"
    }
   }
  },
  {
   "cell_type": "code",
   "execution_count": null,
   "outputs": [],
   "source": [
    "# Función para generar solución inicial\n",
    "def solucion_inicial():\n",
    "    # implementación de la generación de solución inicial\n",
    "    solucion = [0] * 24 # Inicializar el vector con 24 ceros\n",
    "\n",
    "    # Generar una solución válida\n",
    "    for hora in range(0,24):\n",
    "\n",
    "        numero_aleatorio = random.randint(-100,100) # Generar un num aleatorio entre el -100 y 100\n",
    "\n",
    "        solucion[hora] = numero_aleatorio\n",
    "\n",
    "    return solucion\n",
    "\n",
    "# Función para generar vecino\n",
    "def generador_vecino(solucion_actual):\n",
    "    # implementación de la generación de vecino\n",
    "    vecino = solucion_actual.copy()\n",
    "\n",
    "    for elemento in range(len(vecino)):\n",
    "        incremento = random.randint(0, 10)\n",
    "        vecino[elemento] += incremento\n",
    "\n",
    "        decremento = random.randint(0, 10)\n",
    "        vecino[elemento] -= decremento\n",
    "\n",
    "        # Se comprueba que el número resultante esté dentro del rango [-100, 100]\n",
    "        vecino[elemento] = max(min(vecino[elemento], 100), -100)\n",
    "\n",
    "    return vecino\n",
    "\n",
    "# Función de costo a minimizar\n",
    "def criterio_aceptacion(solucion, radiacion, precio, superficie, ganancia, bateria):\n",
    "    # implementación de la función de costo\n",
    "    return 0\n",
    "\n",
    "def simulated_annealing():\n",
    "    # Generación de la solución inicial\n",
    "    solucion_actual = solucion_inicial()\n",
    "    costo_actual = criterio_aceptacion(solucion_actual, radiation, precio, superficie, ganancia, bateria)\n",
    "\n",
    "    # Inicialización de la mejor solución encontrada\n",
    "    mejor_solucion = solucion_actual.copy()\n",
    "    mejor_costo = costo_actual\n",
    "\n",
    "    # Ciclo principal del algoritmo\n",
    "    while T > T_final:\n",
    "        for i in range(iteraciones_por_T):\n",
    "            # Generación de un vecino\n",
    "            vecino = generador_vecino(solucion_actual)\n",
    "            costo_vecino = criterio_aceptacion(vecino, radiation, precio, superficie, ganancia, bateria)\n",
    "\n",
    "            # Cálculo de la diferencia de costo\n",
    "            delta_costo = costo_vecino - costo_actual\n",
    "\n",
    "            # Evaluación del vecino generado\n",
    "            if delta_costo < 0:\n",
    "                # El vecino es mejor que la solución actual, se acepta\n",
    "                solucion_actual = vecino\n",
    "                costo_actual = costo_vecino\n",
    "\n",
    "                # Actualización de la mejor solución encontrada\n",
    "                if costo_actual < mejor_costo:\n",
    "                    mejor_solucion = solucion_actual.copy()\n",
    "                    mejor_costo = costo_actual\n",
    "            else:\n",
    "                # El vecino es peor que la solución actual, se acepta con cierta probabilidad\n",
    "                p_aceptacion = math.exp(-delta_costo / T)\n",
    "                if random.uniform(0, 1) < p_aceptacion:\n",
    "                    solucion_actual = vecino\n",
    "                    costo_actual = costo_vecino\n",
    "\n",
    "        # Enfriamiento de la temperatura\n",
    "        T *= factor_enfriamiento\n",
    "\n",
    "    print(\"Mejor solución encontrada:\", mejor_solucion)\n",
    "    print(\"Costo de la mejor solución encontrada:\", mejor_costo)"
   ],
   "metadata": {
    "collapsed": false,
    "pycharm": {
     "name": "#%%\n"
    }
   }
  },
  {
   "cell_type": "markdown",
   "source": [
    "## Código general"
   ],
   "metadata": {
    "collapsed": false,
    "pycharm": {
     "name": "#%% md\n"
    }
   }
  },
  {
   "cell_type": "code",
   "execution_count": null,
   "outputs": [],
   "source": [
    "def busqueda_local(algoritmo_busqueda, funcion_evaluacion, generar_solucion_inicial, operador_de_movimiento, max_iter=1000):\n",
    "    \"\"\"\n",
    "    Ejecuta un algoritmo de búsqueda local sobre un problema dado.\n",
    "\n",
    "    Args:\n",
    "        algoritmo_busqueda (str): el nombre del algoritmo de búsqueda a ejecutar.\n",
    "        funcion_evaluacion (function): una función que recibe una solución y devuelve su evaluación.\n",
    "        generar_solucion_inicial (function): una función que genera una solución aleatoria al problema.\n",
    "        operador_de_movimiento (function): una función que recibe una solución y devuelve una solución vecina.\n",
    "        max_iter (int): el número máximo de iteraciones a ejecutar.\n",
    "\n",
    "    Returns:\n",
    "        La mejor solución encontrada por el algoritmo de búsqueda y su evaluación.\n",
    "    \"\"\"\n",
    "    # Generación de la solución inicial\n",
    "    solucion_actual = solucion_inicial()\n",
    "    evaluacion_actual = criterio_aceptacion(solucion_actual, radiation, precio, superficie, ganancia, bateria)\n",
    "\n",
    "    # Inicialización de la mejor solución encontrada\n",
    "    mejor_solucion = solucion_actual.copy()\n",
    "    mejor_evaluacion = evaluacion_actual\n",
    "\n",
    "    # Ejecutar la búsqueda local\n",
    "    for i in range(max_iter):\n",
    "        # Generar una solución vecina\n",
    "        vecino = operador_de_movimiento(solucion_actual)\n",
    "\n",
    "        # Evaluar la solución vecina\n",
    "        evaluacion_vecino = funcion_evaluacion(vecino)\n",
    "\n",
    "        # Determinar si la solución vecina es mejor que la actual\n",
    "        if evaluacion_vecino < evaluacion_actual:\n",
    "            # Actualizar la solución actual y su evaluación\n",
    "            solucion_actual = vecino\n",
    "            evaluacion_actual = evaluacion_vecino\n",
    "\n",
    "            # Si la solución actual es mejor que la mejor solución, actualizarla\n",
    "            if evaluacion_actual < mejor_evaluacion:\n",
    "                mejor_solucion = solucion_actual\n",
    "                mejor_evaluacion = evaluacion_actual\n",
    "\n",
    "        # Si el algoritmo de búsqueda es Hill Climbing, terminar la iteración\n",
    "        if algoritmo_busqueda == \"Hill Climbing\":\n",
    "            continue\n",
    "\n",
    "        # Si el algoritmo de búsqueda es Simulated Annealing, determinar si se acepta la solución vecina\n",
    "        elif algoritmo_busqueda == \"Simulated Annealing\":\n",
    "            temperatura = 100.0\n",
    "            temperatura_minima = 1.0\n",
    "            enfriamiento = 0.01\n",
    "\n",
    "            # Calcular la probabilidad de aceptar la solución vecina\n",
    "            delta_evaluacion = evaluacion_vecino - evaluacion_actual\n",
    "            probabilidad_aceptacion = math.exp(-delta_evaluacion / temperatura)\n",
    "\n",
    "            # Aceptar la solución vecina si su evaluación es mejor que la actual o si se cumple la probabilidad de aceptación\n",
    "            if (evaluacion_vecino < evaluacion_actual) or (random.uniform(0, 1) < probabilidad_aceptacion):\n",
    "                solucion_actual = vecino\n",
    "                evaluacion_actual = evaluacion_vecino"
   ],
   "metadata": {
    "collapsed": false,
    "pycharm": {
     "name": "#%%\n"
    }
   }
  }
 ],
 "metadata": {
  "kernelspec": {
   "display_name": "Python 3",
   "language": "python",
   "name": "python3"
  },
  "language_info": {
   "codemirror_mode": {
    "name": "ipython",
    "version": 2
   },
   "file_extension": ".py",
   "mimetype": "text/x-python",
   "name": "python",
   "nbconvert_exporter": "python",
   "pygments_lexer": "ipython2",
   "version": "2.7.6"
  }
 },
 "nbformat": 4,
 "nbformat_minor": 0
}