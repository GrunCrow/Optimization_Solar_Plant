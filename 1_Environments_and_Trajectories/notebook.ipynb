{
 "cells": [
  {
   "cell_type": "markdown",
   "source": [
    "# Entornos y Trayectorias\n",
    "\n",
    "El objetivo de esta práctica es estudiar el funcionamiento de los Algoritmos de Búsqueda Aleatoria, Local, Enfriamiento Simulado y Búsqueda Tabú.\n",
    "\n",
    "El comportamiento de los algoritmos de OCH implementados deberá compararse con un Algoritmo Greedy\n",
    "\n",
    "Este algoritmo debe maximizar los ingresos diarios para una instalación de planta solar que tiene una capacidad total de 1000 m2 con un rendimiento del 20% de la energía recibida. La planta posee una batería que puede almacenar energía antes de venderse de 300 kWh de capacidad.\n",
    "\n",
    "Recibirás el día anterior una previsión meteorológica con la radiación por hora en un vector R (24 enteros\n",
    "con w por m2) y el precio previsto de la energía cada hora en P (24 valores reales en euros por cada kWh)\n",
    "\n",
    "El algoritmo debe decidir que decidir por cada hora cuánta energía se venderá / comprará, la energía que se produce cada hora (o compra) y no se vende se almacena en la batería (que tiene un límite de 300kwh y comienza vacía todos los días). Toda la energía que no almacena ni vende se desperdicia.\n",
    "\n",
    "Precio por día por kWh: a continuación, se muestran los precios reales para el día de hoy en la península, genera una lista de valores a mano deduciéndolos de la grafica en una variable o en un fichero con los valores en céntimos de euro por horas (24 valores).\n",
    "\n",
    "Asume estos valores como precios de venta de los kWh producidos en planta."
   ],
   "metadata": {
    "collapsed": false,
    "pycharm": {
     "name": "#%% md\n"
    }
   }
  },
  {
   "cell_type": "markdown",
   "source": [
    "## Librerías"
   ],
   "metadata": {
    "collapsed": false,
    "pycharm": {
     "name": "#%% md\n"
    }
   }
  },
  {
   "cell_type": "code",
   "execution_count": 1,
   "outputs": [],
   "source": [
    "import random\n",
    "import math\n",
    "\n",
    "# Graphs and Plots\n",
    "import matplotlib.pyplot as plt\n",
    "from mpl_toolkits.axes_grid1 import host_subplot\n",
    "import mpl_toolkits.axisartist as AA\n",
    "import matplotlib.pyplot as plt"
   ],
   "metadata": {
    "collapsed": false,
    "pycharm": {
     "name": "#%%\n"
    }
   }
  },
  {
   "cell_type": "markdown",
   "source": [
    "### Parámetros"
   ],
   "metadata": {
    "collapsed": false,
    "pycharm": {
     "name": "#%% md\n"
    }
   }
  },
  {
   "cell_type": "code",
   "execution_count": 2,
   "outputs": [],
   "source": [
    "# establecer semilla\n",
    "random.seed(751)"
   ],
   "metadata": {
    "collapsed": false,
    "pycharm": {
     "name": "#%%\n"
    }
   }
  },
  {
   "cell_type": "markdown",
   "source": [
    "#### Precio\n",
    "\n",
    "Precio de compra y precio de venta forman el array de 2 filas precio donde:\n",
    "- precio[0] corresponde al precio_compra\n",
    "- precio[1] corresponda al precio_venta\n",
    "\n",
    "El precio se expresa en cents/kWh"
   ],
   "metadata": {
    "collapsed": false,
    "pycharm": {
     "name": "#%% md\n"
    }
   }
  },
  {
   "cell_type": "code",
   "execution_count": 3,
   "outputs": [],
   "source": [
    "# precio[0] = precios de compra\n",
    "precio_compra_problema1 = [26, 26, 25, 24,23,24,25,27,30,29,34,32,31,31,25,24,25,26,34,36,39,40,38,29]\n",
    "\n",
    "# precio[1] = precios de venta\n",
    "precio_venta_problema1 = [24, 23, 22, 23,22,22,20,20,20,19,19,20,19,20,22,23,22,23,26,28,34,35,34,24] # 21 = max\n",
    "\n",
    "precio_problema1 = [precio_compra_problema1, precio_venta_problema1]"
   ],
   "metadata": {
    "collapsed": false,
    "pycharm": {
     "name": "#%%\n"
    }
   }
  },
  {
   "cell_type": "markdown",
   "source": [
    "Radiacion en Wh/m2"
   ],
   "metadata": {
    "collapsed": false,
    "pycharm": {
     "name": "#%% md\n"
    }
   }
  },
  {
   "cell_type": "code",
   "execution_count": 4,
   "metadata": {
    "collapsed": true,
    "pycharm": {
     "name": "#%%\n"
    }
   },
   "outputs": [],
   "source": [
    "# radiacion W/h en m2\n",
    "radiacion_problema1 = [0, 0, 0, 0, 0, 0, 0, 0, 100, 313, 500, 661, 786, 419, 865, 230, 239, 715, 634, 468, 285, 96, 0, 0]"
   ]
  },
  {
   "cell_type": "code",
   "execution_count": 5,
   "outputs": [],
   "source": [
    "horas = [0] * 24\n",
    "for idx, hora in enumerate(horas):\n",
    "    horas[idx] = idx"
   ],
   "metadata": {
    "collapsed": false,
    "pycharm": {
     "name": "#%%\n"
    }
   }
  },
  {
   "cell_type": "markdown",
   "source": [
    "#### Constantes"
   ],
   "metadata": {
    "collapsed": false,
    "pycharm": {
     "name": "#%% md\n"
    }
   }
  },
  {
   "cell_type": "code",
   "execution_count": 6,
   "outputs": [],
   "source": [
    "superficie = 1000   # m2\n",
    "ganancia = 0.2  # 20%\n",
    "bateria_maxima = 300 # kw                           # * 1000     # kW * 1000 = W"
   ],
   "metadata": {
    "collapsed": false,
    "pycharm": {
     "name": "#%%\n"
    }
   }
  },
  {
   "cell_type": "markdown",
   "source": [
    "El resultado esperado es la cantidad en euros conseguida en el día, calculada como el precio por kWh vendidos en esa Hora. Dado que lo que podamos vender dependerá de la carga de la batería en dicho momento no se puede saber de antemano el resultado, por lo que el resultado será calculado mediante una simulación usando los precios y radiación. La simulación interpretará las instrucciones en la solución actual a evaluar calculando cada hora la carga de la batería y la cantidad en euros, que puede ser negativa."
   ],
   "metadata": {
    "collapsed": false,
    "pycharm": {
     "name": "#%% md\n"
    }
   }
  },
  {
   "cell_type": "markdown",
   "source": [
    "## Funciones auxiliares"
   ],
   "metadata": {
    "collapsed": false,
    "pycharm": {
     "name": "#%% md\n"
    }
   }
  },
  {
   "cell_type": "markdown",
   "source": [
    "#### Energia"
   ],
   "metadata": {
    "collapsed": false,
    "pycharm": {
     "name": "#%% md\n"
    }
   }
  },
  {
   "cell_type": "code",
   "execution_count": 7,
   "outputs": [],
   "source": [
    "def kw_to_w(energia_kw):\n",
    "    '''\n",
    "    kwh a wh\n",
    "    '''\n",
    "\n",
    "    return energia_kw * 1000\n",
    "\n",
    "def w_to_kw(energia_w):\n",
    "    '''\n",
    "    w a kw\n",
    "    '''\n",
    "\n",
    "    return energia_w / 1000"
   ],
   "metadata": {
    "collapsed": false,
    "pycharm": {
     "name": "#%%\n"
    }
   }
  },
  {
   "cell_type": "code",
   "execution_count": 8,
   "outputs": [],
   "source": [
    "def energia_a_porcentaje(energia):\n",
    "    \"\"\"\n",
    "    :param energia: energia en kW\n",
    "    :return porcentaje_bateria: equivalente de esos kW en porcentaje de la bateria\n",
    "    \"\"\"\n",
    "\n",
    "    porcentaje_bateria = (energia / bateria_maxima) * 100\n",
    "\n",
    "    return porcentaje_bateria\n",
    "\n",
    "\n",
    "def porcentaje_a_energia(porcentaje):\n",
    "    \"\"\"\n",
    "    :param porcentaje: equivalente de esos kW en porcentaje de la bateria\n",
    "    :return energia: energia en kW\n",
    "    \"\"\"\n",
    "\n",
    "    energia = (porcentaje * bateria_maxima) / 100\n",
    "\n",
    "    return energia"
   ],
   "metadata": {
    "collapsed": false,
    "pycharm": {
     "name": "#%%\n"
    }
   }
  },
  {
   "cell_type": "markdown",
   "source": [
    "#### Dinero"
   ],
   "metadata": {
    "collapsed": false,
    "pycharm": {
     "name": "#%% md\n"
    }
   }
  },
  {
   "cell_type": "code",
   "execution_count": 9,
   "outputs": [],
   "source": [
    "def cents_to_euros(cents):\n",
    "    '''\n",
    "    cents to euros\n",
    "    '''\n",
    "\n",
    "    return cents / 100\n",
    "\n",
    "def euros_to_cents(euros):\n",
    "    '''\n",
    "    euro to cents\n",
    "    '''\n",
    "\n",
    "    return euros * 100"
   ],
   "metadata": {
    "collapsed": false,
    "pycharm": {
     "name": "#%%\n"
    }
   }
  },
  {
   "cell_type": "markdown",
   "source": [
    "### Representación gráfica"
   ],
   "metadata": {
    "collapsed": false,
    "pycharm": {
     "name": "#%% md\n"
    }
   }
  },
  {
   "cell_type": "code",
   "execution_count": 81,
   "outputs": [],
   "source": [
    "def representar_grafica(dinero_hora, bateria_hora, precios_venta):\n",
    "    host = host_subplot(111, axes_class=AA.Axes)\n",
    "    plt.subplots_adjust(right=0.75)\n",
    "\n",
    "    dinero = host.twinx()\n",
    "    bateria = host.twinx()\n",
    "\n",
    "    offset = 5\n",
    "\n",
    "    '''new_fixed_axis = dinero.get_grid_helper().new_fixed_axis\n",
    "    dinero.axis[\"left\"] = new_fixed_axis(loc=\"left\", axes=dinero,\n",
    "                                            offset=(0, 0))'''\n",
    "\n",
    "    new_fixed_axis = bateria.get_grid_helper().new_fixed_axis\n",
    "    bateria.axis[\"right\"] = new_fixed_axis(loc=\"right\", axes=bateria,\n",
    "                                            offset=(offset, 0))\n",
    "\n",
    "    host.set_xlabel(\"Horas\")\n",
    "    # host.set_ylabel(\"Dinero (€)\")\n",
    "    dinero.set_ylabel(\"Dinero (€)\")\n",
    "    bateria.set_ylabel(\"Bateria (%)\")\n",
    "\n",
    "    # host.set_xlim(0, 23)\n",
    "    #host.set_ylim(0, 400)\n",
    "\n",
    "\n",
    "\n",
    "    # bateria.set(ylim=(0,100))\n",
    "    dinero.set(ylim=(min(dinero_hora),max(dinero_hora)))\n",
    "\n",
    "\n",
    "\n",
    "    # Dinero acumulado en cada hora\n",
    "    host.plot(horas,\n",
    "             dinero_hora,\n",
    "             linewidth=3,\n",
    "             color='yellow',\n",
    "             alpha=0.5)\n",
    "\n",
    "    # Capacidad de la bateria en cada hora\n",
    "    bat, = bateria.plot(horas,\n",
    "             bateria_hora,\n",
    "             color='green',\n",
    "             alpha=0.8)\n",
    "\n",
    "    # coeficiente_representacion = 1\n",
    "    # Precio por hora\n",
    "    dinero.plot(horas,    # eje x\n",
    "             precios_venta, #[p * coeficiente_representacion for p in precios_venta],\n",
    "             color='blue')\n",
    "\n",
    "    host.legend([\"Dinero Acumulado\",  \"Precios de venta\", \"Batería\"])\n",
    "\n",
    "    bateria.axis[\"right\"].label.set_color(bat.get_color())\n",
    "\n",
    "    plt.show()"
   ],
   "metadata": {
    "collapsed": false,
    "pycharm": {
     "name": "#%%\n"
    }
   }
  },
  {
   "cell_type": "code",
   "execution_count": 82,
   "outputs": [],
   "source": [
    "def representar_grafica_greedy(dinero_hora, bateria_hora, hora_venta_pico, precios_venta):\n",
    "    host = host_subplot(111, axes_class=AA.Axes)\n",
    "    plt.subplots_adjust(right=0.75)\n",
    "\n",
    "    dinero = host.twinx()\n",
    "    bateria = host.twinx()\n",
    "\n",
    "    offset = 5\n",
    "\n",
    "    '''new_fixed_axis = dinero.get_grid_helper().new_fixed_axis\n",
    "    dinero.axis[\"left\"] = new_fixed_axis(loc=\"left\", axes=dinero,\n",
    "                                            offset=(0, 0))'''\n",
    "\n",
    "    new_fixed_axis = bateria.get_grid_helper().new_fixed_axis\n",
    "    bateria.axis[\"right\"] = new_fixed_axis(loc=\"right\", axes=bateria,\n",
    "                                            offset=(offset, 0))\n",
    "\n",
    "    host.set_xlabel(\"Horas\")\n",
    "    # host.set_ylabel(\"Dinero (€)\")\n",
    "    dinero.set_ylabel(\"Dinero (€)\")\n",
    "    bateria.set_ylabel(\"Bateria (%)\")\n",
    "\n",
    "    # host.set_xlim(0, 23)\n",
    "    #host.set_ylim(0, 400)\n",
    "\n",
    "\n",
    "\n",
    "    # bateria.set(ylim=(0,100))\n",
    "    dinero.set(ylim=(min(dinero_hora),max(dinero_hora)))\n",
    "\n",
    "\n",
    "\n",
    "    # Dinero acumulado en cada hora\n",
    "    host.plot(horas,\n",
    "             dinero_hora,\n",
    "             linewidth=3,\n",
    "             color='yellow',\n",
    "             alpha=0.5)\n",
    "\n",
    "    # Capacidad de la bateria en cada hora\n",
    "    bat, = bateria.plot(horas,\n",
    "             bateria_hora,\n",
    "             color='green',\n",
    "             alpha=0.8)\n",
    "\n",
    "    # Linea de hora de venta\n",
    "    # poner variable hora_venta_pico, para cuando meta el generar grafica dentro de una funcion\n",
    "    dinero.plot([hora_venta_pico for _ in [0, round(max(dinero_hora))]],\n",
    "             [i for i in [0, round(max(dinero_hora))]],\n",
    "             linestyle=':',\n",
    "             color='red')\n",
    "\n",
    "    # coeficiente_representacion = 1\n",
    "    # Precio por hora\n",
    "    dinero.plot(horas,    # eje x\n",
    "             precios_venta, #[p * coeficiente_representacion for p in precios_venta],\n",
    "             color='blue')\n",
    "\n",
    "    host.legend([\"Dinero Acumulado\", \"Hora de Venta (Pico)\",  \"Precios de venta\", \"Batería\"])\n",
    "\n",
    "    bateria.axis[\"right\"].label.set_color(bat.get_color())\n",
    "\n",
    "    plt.show()"
   ],
   "metadata": {
    "collapsed": false,
    "pycharm": {
     "name": "#%%\n"
    }
   }
  },
  {
   "cell_type": "markdown",
   "source": [
    "## Función Evaluación"
   ],
   "metadata": {
    "collapsed": false,
    "pycharm": {
     "name": "#%% md\n"
    }
   }
  },
  {
   "cell_type": "code",
   "execution_count": 83,
   "outputs": [],
   "source": [
    "def funcion_evaluacion(solucion, radiacion, precio, representar = False):\n",
    "    bateria_capacidad_porcentaje = 0\n",
    "    dinero_total = 0\n",
    "\n",
    "    hora_venta_pico = precio[1].index(max(precio[1]))\n",
    "\n",
    "    # para la representacion de las funciones\n",
    "    dinero_hora = [0 for _ in range(24)]\n",
    "    bateria_hora = [0 for _ in range(24)]\n",
    "    precios_venta = [0 for _ in range(24)]\n",
    "    precios_compra = [0 for _ in range(24)]\n",
    "\n",
    "    for hora in horas:\n",
    "\n",
    "        # 1. Almacenar nueva energia\n",
    "        energia_recibida = w_to_kw(radiacion[hora]) * superficie * ganancia  # a kwh\n",
    "        bateria_capacidad_porcentaje += energia_a_porcentaje(energia_recibida)    # incrementar % de la bateria\n",
    "\n",
    "\n",
    "        precio_venta_actual = precio[1][hora]\n",
    "        precio_compra_actual = precio[0][hora]\n",
    "        precios_venta[hora] = precio_venta_actual\n",
    "        precios_compra[hora] = precio_compra_actual\n",
    "\n",
    "        # 2. Vender si hay sobrante\n",
    "        if bateria_capacidad_porcentaje > 100:\n",
    "            porcentaje_bateria_sobrante = bateria_capacidad_porcentaje - 100\n",
    "            bateria_capacidad_porcentaje = 100\n",
    "            dinero_total += cents_to_euros((porcentaje_a_energia(porcentaje_bateria_sobrante)) * precio_venta_actual)\n",
    "\n",
    "        # assert 0 <= bateria_capacidad_porcentaje <= 100, \"Batería fuera de los posibles limites\"\n",
    "\n",
    "        if solucion[hora] >= 0:  # Compra el porcentaje de batería introducido respecto a la fracción de almacenaje disponible, después de introducir la energía recibida en esa hora. Al hacer la compra sobre el porcentaje de energía almacenada tras añadir la nueva energía, solo se superará la capacidad de la batería con la nueva energía a almacenar, en este caso, esa energía sobrante se venderá.\n",
    "\n",
    "            # 3. Comprar energia\n",
    "            bateria_almacenable_porcentaje = 100 - bateria_capacidad_porcentaje # todo no puese ser menor de 0\n",
    "            bateria_almacenar_porcentaje = (solucion[hora]) * bateria_almacenable_porcentaje / 100\n",
    "            bateria_capacidad_porcentaje += bateria_almacenar_porcentaje\n",
    "\n",
    "            # assert 0 <= bateria_capacidad_porcentaje <= 100, \"Batería fuera de los posibles limites 1\"\n",
    "\n",
    "            dinero_total -= cents_to_euros(porcentaje_a_energia(bateria_almacenar_porcentaje) * precio_compra_actual)\n",
    "\n",
    "        else: # Vende el porcentaje de energía almacenada introducido.\n",
    "            # 3. Vende energia\n",
    "            bateria_vender_porcentaje = (abs(solucion[hora]) * bateria_capacidad_porcentaje) / 100\n",
    "\n",
    "            bateria_capacidad_porcentaje -= bateria_vender_porcentaje\n",
    "\n",
    "            # assert 0 <= bateria_capacidad_porcentaje <= 100, \"Batería fuera de los posibles limites 2\"\n",
    "\n",
    "            dinero_total += cents_to_euros((porcentaje_a_energia(bateria_vender_porcentaje)) * precio_venta_actual)\n",
    "\n",
    "        bateria_hora[hora] = bateria_capacidad_porcentaje\n",
    "        dinero_hora[hora] = dinero_total\n",
    "\n",
    "    if representar:\n",
    "        representar_grafica(dinero_hora, bateria_hora, precios_venta)\n",
    "\n",
    "    return dinero_total"
   ],
   "metadata": {
    "collapsed": false,
    "pycharm": {
     "name": "#%%\n"
    }
   }
  },
  {
   "cell_type": "markdown",
   "source": [
    "## Movimiento"
   ],
   "metadata": {
    "collapsed": false,
    "pycharm": {
     "name": "#%% md\n"
    }
   }
  },
  {
   "cell_type": "code",
   "execution_count": null,
   "outputs": [],
   "source": [
    "# se genera un numero de vecinos, por ej 40 -> elegir una posicion y hacer + / - granularidad de esa posicion, yendo de 1 en 1 o de 10 en 10\n",
    "# Función para generar vecino\n",
    "def generador_vecino(solucion_actual):\n",
    "    # implementación de la generación de vecino\n",
    "    vecino = solucion_actual.copy()\n",
    "\n",
    "    for elemento in range(len(vecino)):\n",
    "        incremento = random.randint(0, 10)\n",
    "        vecino[elemento] += incremento\n",
    "\n",
    "        decremento = random.randint(0, 10)\n",
    "        vecino[elemento] -= decremento\n",
    "\n",
    "        # Se comprueba que el número resultante esté dentro del rango [-100, 100]\n",
    "        vecino[elemento] = max(min(vecino[elemento], 100), -100)\n",
    "\n",
    "    return vecino\n"
   ],
   "metadata": {
    "collapsed": false,
    "pycharm": {
     "name": "#%%\n"
    }
   }
  },
  {
   "cell_type": "markdown",
   "source": [
    "## Algoritmos de Búsqueda Local"
   ],
   "metadata": {
    "collapsed": false,
    "pycharm": {
     "name": "#%% md\n"
    }
   }
  },
  {
   "cell_type": "markdown",
   "source": [
    "### Greedy\n",
    "\n",
    "Para efectuar la comparativa de resultados entre los distintos algoritmos de búsqueda, se debe implementar como algoritmo básico, un Greedy, siguiendo la heurística de guardar desde el principio hasta que se llene y luego vender en el pico de precio del dia todo. A partir de ese momento vender todo."
   ],
   "metadata": {
    "collapsed": false,
    "pycharm": {
     "name": "#%% md\n"
    }
   }
  },
  {
   "cell_type": "code",
   "execution_count": 84,
   "outputs": [],
   "source": [
    "def greedy(radiacion, precio, representar = False):\n",
    "    bateria_capacidad_porcentaje = 0\n",
    "    dinero_total = 0\n",
    "\n",
    "    hora_venta_pico = precio[1].index(max(precio[1]))\n",
    "\n",
    "    # para la representacion de las funciones\n",
    "    dinero_hora = [0 for _ in range(24)]\n",
    "    bateria_hora = [0 for _ in range(24)]\n",
    "    precios_venta = [0 for _ in range(24)]\n",
    "\n",
    "    for hora in horas:\n",
    "        energia_recibida = w_to_kw(radiacion[hora]) * superficie * ganancia  # a kwh\n",
    "        bateria_capacidad_porcentaje += energia_a_porcentaje(energia_recibida)    # incrementar % de la bateria, obligar que sea int\n",
    "\n",
    "        precio_venta_actual = precio[1][hora]\n",
    "        precios_venta[hora] = precio_venta_actual\n",
    "\n",
    "        if bateria_capacidad_porcentaje > 100:\n",
    "            porcentaje_bateria_sobrante = bateria_capacidad_porcentaje - 100\n",
    "            bateria_capacidad_porcentaje = 100\n",
    "            dinero_total += cents_to_euros((porcentaje_a_energia(porcentaje_bateria_sobrante)) * precio_venta_actual)\n",
    "\n",
    "        if hora >= hora_venta_pico:\n",
    "            dinero_total += cents_to_euros((porcentaje_a_energia(bateria_capacidad_porcentaje)) * precio_venta_actual)\n",
    "            bateria_capacidad_porcentaje = 0\n",
    "\n",
    "        # assert 0 <= bateria_capacidad_porcentaje <= 100, \"Batería fuera de los posibles limites\"\n",
    "\n",
    "        bateria_hora[hora] = bateria_capacidad_porcentaje\n",
    "        dinero_hora[hora] = dinero_total\n",
    "\n",
    "    if representar:\n",
    "        representar_grafica_greedy(dinero_hora, bateria_hora, hora_venta_pico, precios_venta)\n",
    "\n",
    "    return dinero_total"
   ],
   "metadata": {
    "collapsed": false,
    "pycharm": {
     "name": "#%%\n"
    }
   }
  },
  {
   "cell_type": "code",
   "execution_count": 85,
   "outputs": [
    {
     "data": {
      "text/plain": "<Figure size 640x480 with 1 Axes>",
      "image/png": "[encoded data removed]"
     },
     "metadata": {},
     "output_type": "display_data"
    },
    {
     "name": "stdout",
     "output_type": "stream",
     "text": [
      "Dinero: 331.91\n"
     ]
    }
   ],
   "source": [
    "dinero_total = greedy(radiacion_problema1, precio_problema1, True)\n",
    "print(\"Dinero: \" + str(dinero_total))"
   ],
   "metadata": {
    "collapsed": false,
    "pycharm": {
     "name": "#%%\n"
    }
   }
  },
  {
   "cell_type": "markdown",
   "source": [
    "#### Búsqueda aleatoria\n",
    "\n",
    "El Algoritmo de Búsqueda Aleatoria (BA) consistirá en generar aleatoriamente una solución en cada iteración debiéndose ejecutar 100 iteraciones con cada semilla devolviendo la mejor de las iteraciones."
   ],
   "metadata": {
    "collapsed": false,
    "pycharm": {
     "name": "#%% md\n"
    }
   }
  },
  {
   "cell_type": "code",
   "execution_count": 86,
   "outputs": [],
   "source": [
    "def generar_solucion():\n",
    "    solucion = [0] * 24 # Inicializar el vector con 24 ceros\n",
    "\n",
    "    # Generar una solución válida\n",
    "    for hora in range(0,24):\n",
    "        numero_aleatorio = random.randint(-100,100) # Generar un num aleatorio entre el -100 y 100\n",
    "        solucion[hora] = numero_aleatorio\n",
    "\n",
    "    return solucion\n",
    "\n",
    "def busqueda_aleatoria(iteraciones):\n",
    "    solucion = []\n",
    "    valor_solucion = 0\n",
    "\n",
    "    for iteracion in range(iteraciones):\n",
    "        solucion_actual = generar_solucion()\n",
    "\n",
    "        if iteracion / 10 == 0: representar = True\n",
    "        else: representar = False\n",
    "\n",
    "        valor_solucion_actual = funcion_evaluacion(solucion_actual, radiacion_problema1, precio_problema1)\n",
    "\n",
    "        if valor_solucion_actual > valor_solucion:\n",
    "            solucion = solucion_actual\n",
    "            valor_solucion = valor_solucion_actual\n",
    "            funcion_evaluacion(solucion, radiacion_problema1, precio_problema1, False)\n",
    "\n",
    "    return solucion"
   ],
   "metadata": {
    "collapsed": false,
    "pycharm": {
     "name": "#%%\n"
    }
   }
  },
  {
   "cell_type": "code",
   "execution_count": 87,
   "outputs": [],
   "source": [
    "iteraciones = 100\n",
    "solucion = busqueda_aleatoria(iteraciones)"
   ],
   "metadata": {
    "collapsed": false,
    "pycharm": {
     "name": "#%%\n"
    }
   }
  },
  {
   "cell_type": "code",
   "execution_count": 88,
   "outputs": [
    {
     "data": {
      "text/plain": "<Figure size 640x480 with 1 Axes>",
      "image/png": "[encoded data removed]"
     },
     "metadata": {},
     "output_type": "display_data"
    },
    {
     "name": "stdout",
     "output_type": "stream",
     "text": [
      "Dinero total: 301.49399412262034\n"
     ]
    }
   ],
   "source": [
    "dinero_total = funcion_evaluacion(solucion, radiacion_problema1, precio_problema1, True)\n",
    "print(\"Dinero total: \" + str(dinero_total))"
   ],
   "metadata": {
    "collapsed": false,
    "pycharm": {
     "name": "#%%\n"
    }
   }
  },
  {
   "cell_type": "markdown",
   "source": [
    "### Simulated Annealing"
   ],
   "metadata": {
    "collapsed": false,
    "pycharm": {
     "name": "#%% md\n"
    }
   }
  },
  {
   "cell_type": "code",
   "execution_count": null,
   "outputs": [],
   "source": [
    "# Función para generar solución inicial\n",
    "def solucion_inicial():\n",
    "    # implementación de la generación de solución inicial\n",
    "    solucion = [0] * 24 # Inicializar el vector con 24 ceros\n",
    "\n",
    "    # Generar una solución válida\n",
    "    for hora in range(0,24):\n",
    "\n",
    "        numero_aleatorio = random.randint(-100,100) # Generar un num aleatorio entre el -100 y 100\n",
    "\n",
    "        solucion[hora] = numero_aleatorio\n",
    "\n",
    "    return solucion\n",
    "\n",
    "# Función para generar vecino\n",
    "def generador_vecino(solucion_actual):\n",
    "    # implementación de la generación de vecino\n",
    "    vecino = solucion_actual.copy()\n",
    "\n",
    "    for elemento in range(len(vecino)):\n",
    "        incremento = random.randint(0, 10)\n",
    "        vecino[elemento] += incremento\n",
    "\n",
    "        decremento = random.randint(0, 10)\n",
    "        vecino[elemento] -= decremento\n",
    "\n",
    "        # Se comprueba que el número resultante esté dentro del rango [-100, 100]\n",
    "        vecino[elemento] = max(min(vecino[elemento], 100), -100)\n",
    "\n",
    "    return vecino\n",
    "\n",
    "# Función de costo a minimizar\n",
    "def criterio_aceptacion(solucion, radiacion, precio, superficie, ganancia, bateria):\n",
    "    # implementación de la función de costo\n",
    "    return 0\n",
    "\n",
    "def simulated_annealing():\n",
    "    # Generación de la solución inicial\n",
    "    solucion_actual = solucion_inicial()\n",
    "    costo_actual = criterio_aceptacion(solucion_actual, radiation, precio, superficie, ganancia, bateria)\n",
    "\n",
    "    # Inicialización de la mejor solución encontrada\n",
    "    mejor_solucion = solucion_actual.copy()\n",
    "    mejor_costo = costo_actual\n",
    "\n",
    "    # Ciclo principal del algoritmo\n",
    "    while T > T_final:\n",
    "        for i in range(iteraciones_por_T):\n",
    "            # Generación de un vecino\n",
    "            vecino = generador_vecino(solucion_actual)\n",
    "            costo_vecino = criterio_aceptacion(vecino, radiation, precio, superficie, ganancia, bateria)\n",
    "\n",
    "            # Cálculo de la diferencia de costo\n",
    "            delta_costo = costo_vecino - costo_actual\n",
    "\n",
    "            # Evaluación del vecino generado\n",
    "            if delta_costo < 0:\n",
    "                # El vecino es mejor que la solución actual, se acepta\n",
    "                solucion_actual = vecino\n",
    "                costo_actual = costo_vecino\n",
    "\n",
    "                # Actualización de la mejor solución encontrada\n",
    "                if costo_actual < mejor_costo:\n",
    "                    mejor_solucion = solucion_actual.copy()\n",
    "                    mejor_costo = costo_actual\n",
    "            else:\n",
    "                # El vecino es peor que la solución actual, se acepta con cierta probabilidad\n",
    "                p_aceptacion = math.exp(-delta_costo / T)\n",
    "                if random.uniform(0, 1) < p_aceptacion:\n",
    "                    solucion_actual = vecino\n",
    "                    costo_actual = costo_vecino\n",
    "\n",
    "        # Enfriamiento de la temperatura\n",
    "        T *= factor_enfriamiento\n",
    "\n",
    "    print(\"Mejor solución encontrada:\", mejor_solucion)\n",
    "    print(\"Costo de la mejor solución encontrada:\", mejor_costo)"
   ],
   "metadata": {
    "collapsed": false,
    "pycharm": {
     "name": "#%%\n"
    }
   }
  },
  {
   "cell_type": "markdown",
   "source": [
    "## Código general"
   ],
   "metadata": {
    "collapsed": false,
    "pycharm": {
     "name": "#%% md\n"
    }
   }
  },
  {
   "cell_type": "code",
   "execution_count": null,
   "outputs": [],
   "source": [
    "def busqueda_local(algoritmo_busqueda, funcion_evaluacion, generar_solucion_inicial, operador_de_movimiento, max_iter=1000):\n",
    "    \"\"\"\n",
    "    Ejecuta un algoritmo de búsqueda local sobre un problema dado.\n",
    "\n",
    "    Args:\n",
    "        algoritmo_busqueda (str): el nombre del algoritmo de búsqueda a ejecutar.\n",
    "        funcion_evaluacion (function): una función que recibe una solución y devuelve su evaluación.\n",
    "        generar_solucion_inicial (function): una función que genera una solución aleatoria al problema.\n",
    "        operador_de_movimiento (function): una función que recibe una solución y devuelve una solución vecina.\n",
    "        max_iter (int): el número máximo de iteraciones a ejecutar.\n",
    "\n",
    "    Returns:\n",
    "        La mejor solución encontrada por el algoritmo de búsqueda y su evaluación.\n",
    "    \"\"\"\n",
    "    # Generación de la solución inicial\n",
    "    solucion_actual = solucion_inicial()\n",
    "    evaluacion_actual = criterio_aceptacion(solucion_actual, radiation, precio, superficie, ganancia, bateria)\n",
    "\n",
    "    # Inicialización de la mejor solución encontrada\n",
    "    mejor_solucion = solucion_actual.copy()\n",
    "    mejor_evaluacion = evaluacion_actual\n",
    "\n",
    "    # Ejecutar la búsqueda local\n",
    "    for i in range(max_iter):\n",
    "        # Generar una solución vecina\n",
    "        vecino = operador_de_movimiento(solucion_actual)\n",
    "\n",
    "        # Evaluar la solución vecina\n",
    "        evaluacion_vecino = funcion_evaluacion(vecino)\n",
    "\n",
    "        # Determinar si la solución vecina es mejor que la actual\n",
    "        if evaluacion_vecino < evaluacion_actual:\n",
    "            # Actualizar la solución actual y su evaluación\n",
    "            solucion_actual = vecino\n",
    "            evaluacion_actual = evaluacion_vecino\n",
    "\n",
    "            # Si la solución actual es mejor que la mejor solución, actualizarla\n",
    "            if evaluacion_actual < mejor_evaluacion:\n",
    "                mejor_solucion = solucion_actual\n",
    "                mejor_evaluacion = evaluacion_actual\n",
    "\n",
    "        # Si el algoritmo de búsqueda es Hill Climbing, terminar la iteración\n",
    "        if algoritmo_busqueda == \"Hill Climbing\":\n",
    "            continue\n",
    "\n",
    "        # Si el algoritmo de búsqueda es Simulated Annealing, determinar si se acepta la solución vecina\n",
    "        elif algoritmo_busqueda == \"Simulated Annealing\":\n",
    "            temperatura = 100.0\n",
    "            temperatura_minima = 1.0\n",
    "            enfriamiento = 0.01\n",
    "\n",
    "            # Calcular la probabilidad de aceptar la solución vecina\n",
    "            delta_evaluacion = evaluacion_vecino - evaluacion_actual\n",
    "            probabilidad_aceptacion = math.exp(-delta_evaluacion / temperatura)\n",
    "\n",
    "            # Aceptar la solución vecina si su evaluación es mejor que la actual o si se cumple la probabilidad de aceptación\n",
    "            if (evaluacion_vecino < evaluacion_actual) or (random.uniform(0, 1) < probabilidad_aceptacion):\n",
    "                solucion_actual = vecino\n",
    "                evaluacion_actual = evaluacion_vecino"
   ],
   "metadata": {
    "collapsed": false,
    "pycharm": {
     "name": "#%%\n"
    }
   }
  }
 ],
 "metadata": {
  "kernelspec": {
   "display_name": "Python 3",
   "language": "python",
   "name": "python3"
  },
  "language_info": {
   "codemirror_mode": {
    "name": "ipython",
    "version": 2
   },
   "file_extension": ".py",
   "mimetype": "text/x-python",
   "name": "python",
   "nbconvert_exporter": "python",
   "pygments_lexer": "ipython2",
   "version": "2.7.6"
  }
 },
 "nbformat": 4,
 "nbformat_minor": 0
}